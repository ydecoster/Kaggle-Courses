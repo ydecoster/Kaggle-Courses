{
 "cells": [
  {
   "cell_type": "markdown",
   "execution_count": null,
   "metadata": {},
   "source": [
    "**[SQL Home Page](https://www.kaggle.com/learn/intro-to-sql)**\n",
    "\n",
    "---\n"
   ]
  },
  {
   "cell_type": "markdown",
   "execution_count": null,
   "metadata": {},
   "source": [
    "# Introduction\n",
    "\n",
    "[Stack Overflow](https://stackoverflow.com/) is a widely beloved question and answer site for technical questions. You'll probably use it yourself as you keep using SQL (or any programming language). \n",
    "\n",
    "Their data is publicly available. What cool things do you think it would be useful for?\n",
    "\n",
    "Here's one idea:\n",
    "You could set up a service that identifies the Stack Overflow users who have demonstrated expertise with a specific technology by answering related questions about it, so someone could hire those experts for in-depth help.\n",
    "\n",
    "In this exercise, you'll write the SQL queries that might serve as the foundation for this type of service.\n",
    "\n",
    "As usual, run the following cell to set up our feedback system before moving on."
   ]
  },
  {
   "cell_type": "code",
   "execution_count": 1,
   "metadata": {},
   "outputs": [
    {
     "name": "stdout",
     "output_type": "stream",
     "text": [
      "Using Kaggle's public dataset BigQuery integration.\n",
      "Setup Complete\n"
     ]
    }
   ],
   "source": [
    "# Set up feedback system\n",
    "from learntools.core import binder\n",
    "binder.bind(globals())\n",
    "from learntools.sql.ex6 import *\n",
    "print(\"Setup Complete\")"
   ]
  },
  {
   "cell_type": "markdown",
   "execution_count": null,
   "metadata": {},
   "source": [
    "Run the next cell to fetch the `stackoverflow` dataset."
   ]
  },
  {
   "cell_type": "code",
   "execution_count": 2,
   "metadata": {},
   "outputs": [
    {
     "name": "stdout",
     "output_type": "stream",
     "text": [
      "Using Kaggle's public dataset BigQuery integration.\n"
     ]
    }
   ],
   "source": [
    "from google.cloud import bigquery\n",
    "\n",
    "# Create a \"Client\" object\n",
    "client = bigquery.Client()\n",
    "\n",
    "# Construct a reference to the \"stackoverflow\" dataset\n",
    "dataset_ref = client.dataset(\"stackoverflow\", project=\"bigquery-public-data\")\n",
    "\n",
    "# API request - fetch the dataset\n",
    "dataset = client.get_dataset(dataset_ref)"
   ]
  },
  {
   "cell_type": "markdown",
   "execution_count": null,
   "metadata": {},
   "source": [
    "# Exercises\n",
    "\n",
    "### 1) Explore the data\n",
    "\n",
    "Before writing queries or **JOIN** clauses, you'll want to see what tables are available. \n",
    "\n",
    "*Hint*: Tab completion is helpful whenever you can't remember a command. Type `client.` and then hit the tab key. Don't forget the period before hitting tab."
   ]
  },
  {
   "cell_type": "code",
   "execution_count": 3,
   "metadata": {},
   "outputs": [
    {
     "name": "stdout",
     "output_type": "stream",
     "text": [
      "['badges', 'comments', 'post_history', 'post_links', 'posts_answers', 'posts_moderator_nomination', 'posts_orphaned_tag_wiki', 'posts_privilege_wiki', 'posts_questions', 'posts_tag_wiki', 'posts_tag_wiki_excerpt', 'posts_wiki_placeholder', 'stackoverflow_posts', 'tags', 'users', 'votes']\n"
     ]
    },
    {
     "data": {
      "application/javascript": [
       "parent.postMessage({\"jupyterEvent\": \"custom.exercise_interaction\", \"data\": {\"outcomeType\": 1, \"valueTowardsCompletion\": 0.16666666666666666, \"interactionType\": 1, \"questionType\": 1, \"questionId\": \"1_ListSOTables\", \"learnToolsVersion\": \"0.3.4\", \"failureMessage\": \"\", \"exceptionClass\": \"\", \"trace\": \"\"}}, \"*\")"
      ],
      "text/plain": [
       "<IPython.core.display.Javascript object>"
      ]
     },
     "metadata": {},
     "output_type": "display_data"
    },
    {
     "data": {
      "text/markdown": [
       "<span style=\"color:#33cc33\">Correct</span>"
      ],
      "text/plain": [
       "Correct"
      ]
     },
     "metadata": {},
     "output_type": "display_data"
    }
   ],
   "source": [
    "# Get a list of available tables \n",
    "tables = list(client.list_tables(dataset))\n",
    "list_of_tables = [table.table_id for table in tables] # Your code here\n",
    "\n",
    "# Print your answer\n",
    "print(list_of_tables)\n",
    "\n",
    "# Check your answer\n",
    "q_1.check()"
   ]
  },
  {
   "cell_type": "markdown",
   "execution_count": null,
   "metadata": {},
   "source": [
    "For the solution, uncomment the line below."
   ]
  },
  {
   "cell_type": "code",
   "execution_count": 4,
   "metadata": {},
   "outputs": [],
   "source": [
    "#q_1.solution()"
   ]
  },
  {
   "cell_type": "markdown",
   "execution_count": null,
   "metadata": {},
   "source": [
    "### 2) Review relevant tables\n",
    "\n",
    "If you are interested in people who answer questions on a given topic, the `posts_answers` table is a natural place to look. Run the following cell, and look at the output."
   ]
  },
  {
   "cell_type": "code",
   "execution_count": 5,
   "metadata": {},
   "outputs": [
    {
     "data": {
      "text/html": [
       "<div>\n",
       "<style scoped>\n",
       "    .dataframe tbody tr th:only-of-type {\n",
       "        vertical-align: middle;\n",
       "    }\n",
       "\n",
       "    .dataframe tbody tr th {\n",
       "        vertical-align: top;\n",
       "    }\n",
       "\n",
       "    .dataframe thead th {\n",
       "        text-align: right;\n",
       "    }\n",
       "</style>\n",
       "<table border=\"1\" class=\"dataframe\">\n",
       "  <thead>\n",
       "    <tr style=\"text-align: right;\">\n",
       "      <th></th>\n",
       "      <th>id</th>\n",
       "      <th>title</th>\n",
       "      <th>body</th>\n",
       "      <th>accepted_answer_id</th>\n",
       "      <th>answer_count</th>\n",
       "      <th>comment_count</th>\n",
       "      <th>community_owned_date</th>\n",
       "      <th>creation_date</th>\n",
       "      <th>favorite_count</th>\n",
       "      <th>last_activity_date</th>\n",
       "      <th>last_edit_date</th>\n",
       "      <th>last_editor_display_name</th>\n",
       "      <th>last_editor_user_id</th>\n",
       "      <th>owner_display_name</th>\n",
       "      <th>owner_user_id</th>\n",
       "      <th>parent_id</th>\n",
       "      <th>post_type_id</th>\n",
       "      <th>score</th>\n",
       "      <th>tags</th>\n",
       "      <th>view_count</th>\n",
       "    </tr>\n",
       "  </thead>\n",
       "  <tbody>\n",
       "    <tr>\n",
       "      <th>0</th>\n",
       "      <td>61514077</td>\n",
       "      <td>None</td>\n",
       "      <td>&lt;p&gt;You can use \"break\" to break the loop, whic...</td>\n",
       "      <td>None</td>\n",
       "      <td>None</td>\n",
       "      <td>0</td>\n",
       "      <td>None</td>\n",
       "      <td>2020-04-30 00:45:21.430000+00:00</td>\n",
       "      <td>None</td>\n",
       "      <td>2020-04-30 00:45:21.430000+00:00</td>\n",
       "      <td>None</td>\n",
       "      <td>None</td>\n",
       "      <td>None</td>\n",
       "      <td>user13366406</td>\n",
       "      <td>None</td>\n",
       "      <td>7951690</td>\n",
       "      <td>2</td>\n",
       "      <td>0</td>\n",
       "      <td>None</td>\n",
       "      <td>None</td>\n",
       "    </tr>\n",
       "    <tr>\n",
       "      <th>1</th>\n",
       "      <td>61514948</td>\n",
       "      <td>None</td>\n",
       "      <td>&lt;p&gt;Okay I solved it, I had the incorrect Strin...</td>\n",
       "      <td>None</td>\n",
       "      <td>None</td>\n",
       "      <td>0</td>\n",
       "      <td>None</td>\n",
       "      <td>2020-04-30 02:31:51.440000+00:00</td>\n",
       "      <td>None</td>\n",
       "      <td>2020-04-30 02:31:51.440000+00:00</td>\n",
       "      <td>None</td>\n",
       "      <td>None</td>\n",
       "      <td>None</td>\n",
       "      <td>user9969622</td>\n",
       "      <td>None</td>\n",
       "      <td>61470541</td>\n",
       "      <td>2</td>\n",
       "      <td>0</td>\n",
       "      <td>None</td>\n",
       "      <td>None</td>\n",
       "    </tr>\n",
       "    <tr>\n",
       "      <th>2</th>\n",
       "      <td>61518060</td>\n",
       "      <td>None</td>\n",
       "      <td>&lt;p&gt;there's no such library available that sati...</td>\n",
       "      <td>None</td>\n",
       "      <td>None</td>\n",
       "      <td>0</td>\n",
       "      <td>None</td>\n",
       "      <td>2020-04-30 07:29:01.820000+00:00</td>\n",
       "      <td>None</td>\n",
       "      <td>2020-04-30 07:29:01.820000+00:00</td>\n",
       "      <td>None</td>\n",
       "      <td>None</td>\n",
       "      <td>None</td>\n",
       "      <td>user13317089</td>\n",
       "      <td>None</td>\n",
       "      <td>61311006</td>\n",
       "      <td>2</td>\n",
       "      <td>0</td>\n",
       "      <td>None</td>\n",
       "      <td>None</td>\n",
       "    </tr>\n",
       "    <tr>\n",
       "      <th>3</th>\n",
       "      <td>61520287</td>\n",
       "      <td>None</td>\n",
       "      <td>&lt;p&gt;{\\n    \"error\": {\\n        \"code\": \"Forbidd...</td>\n",
       "      <td>None</td>\n",
       "      <td>None</td>\n",
       "      <td>1</td>\n",
       "      <td>None</td>\n",
       "      <td>2020-04-30 09:34:29.533000+00:00</td>\n",
       "      <td>None</td>\n",
       "      <td>2020-04-30 09:34:29.533000+00:00</td>\n",
       "      <td>None</td>\n",
       "      <td>None</td>\n",
       "      <td>None</td>\n",
       "      <td>user4746302</td>\n",
       "      <td>None</td>\n",
       "      <td>61519229</td>\n",
       "      <td>2</td>\n",
       "      <td>0</td>\n",
       "      <td>None</td>\n",
       "      <td>None</td>\n",
       "    </tr>\n",
       "    <tr>\n",
       "      <th>4</th>\n",
       "      <td>61521694</td>\n",
       "      <td>None</td>\n",
       "      <td>&lt;p&gt;Solveded like now its opening, because I re...</td>\n",
       "      <td>None</td>\n",
       "      <td>None</td>\n",
       "      <td>0</td>\n",
       "      <td>None</td>\n",
       "      <td>2020-04-30 10:50:25.500000+00:00</td>\n",
       "      <td>None</td>\n",
       "      <td>2020-04-30 10:50:25.500000+00:00</td>\n",
       "      <td>None</td>\n",
       "      <td>None</td>\n",
       "      <td>None</td>\n",
       "      <td>user13388525</td>\n",
       "      <td>None</td>\n",
       "      <td>61520555</td>\n",
       "      <td>2</td>\n",
       "      <td>0</td>\n",
       "      <td>None</td>\n",
       "      <td>None</td>\n",
       "    </tr>\n",
       "  </tbody>\n",
       "</table>\n",
       "</div>"
      ],
      "text/plain": [
       "         id title                                               body  \\\n",
       "0  61514077  None  <p>You can use \"break\" to break the loop, whic...   \n",
       "1  61514948  None  <p>Okay I solved it, I had the incorrect Strin...   \n",
       "2  61518060  None  <p>there's no such library available that sati...   \n",
       "3  61520287  None  <p>{\\n    \"error\": {\\n        \"code\": \"Forbidd...   \n",
       "4  61521694  None  <p>Solveded like now its opening, because I re...   \n",
       "\n",
       "  accepted_answer_id answer_count  comment_count community_owned_date  \\\n",
       "0               None         None              0                 None   \n",
       "1               None         None              0                 None   \n",
       "2               None         None              0                 None   \n",
       "3               None         None              1                 None   \n",
       "4               None         None              0                 None   \n",
       "\n",
       "                     creation_date favorite_count  \\\n",
       "0 2020-04-30 00:45:21.430000+00:00           None   \n",
       "1 2020-04-30 02:31:51.440000+00:00           None   \n",
       "2 2020-04-30 07:29:01.820000+00:00           None   \n",
       "3 2020-04-30 09:34:29.533000+00:00           None   \n",
       "4 2020-04-30 10:50:25.500000+00:00           None   \n",
       "\n",
       "                last_activity_date last_edit_date last_editor_display_name  \\\n",
       "0 2020-04-30 00:45:21.430000+00:00           None                     None   \n",
       "1 2020-04-30 02:31:51.440000+00:00           None                     None   \n",
       "2 2020-04-30 07:29:01.820000+00:00           None                     None   \n",
       "3 2020-04-30 09:34:29.533000+00:00           None                     None   \n",
       "4 2020-04-30 10:50:25.500000+00:00           None                     None   \n",
       "\n",
       "  last_editor_user_id owner_display_name owner_user_id  parent_id  \\\n",
       "0                None       user13366406          None    7951690   \n",
       "1                None        user9969622          None   61470541   \n",
       "2                None       user13317089          None   61311006   \n",
       "3                None        user4746302          None   61519229   \n",
       "4                None       user13388525          None   61520555   \n",
       "\n",
       "   post_type_id  score  tags view_count  \n",
       "0             2      0  None       None  \n",
       "1             2      0  None       None  \n",
       "2             2      0  None       None  \n",
       "3             2      0  None       None  \n",
       "4             2      0  None       None  "
      ]
     },
     "execution_count": 5,
     "metadata": {},
     "output_type": "execute_result"
    }
   ],
   "source": [
    "# Construct a reference to the \"posts_answers\" table\n",
    "answers_table_ref = dataset_ref.table(\"posts_answers\")\n",
    "\n",
    "# API request - fetch the table\n",
    "answers_table = client.get_table(answers_table_ref)\n",
    "\n",
    "# Preview the first five lines of the \"posts_answers\" table\n",
    "client.list_rows(answers_table, max_results=5).to_dataframe()"
   ]
  },
  {
   "cell_type": "markdown",
   "execution_count": null,
   "metadata": {},
   "source": [
    "It isn't clear yet how to find users who answered questions on any given topic. But `posts_answers` has a `parent_id` column. If you are familiar with the Stack Overflow site, you might figure out that the `parent_id` is the question each post is answering.\n",
    "\n",
    "Look at `posts_questions` using the cell below."
   ]
  },
  {
   "cell_type": "code",
   "execution_count": 6,
   "metadata": {},
   "outputs": [
    {
     "data": {
      "text/html": [
       "<div>\n",
       "<style scoped>\n",
       "    .dataframe tbody tr th:only-of-type {\n",
       "        vertical-align: middle;\n",
       "    }\n",
       "\n",
       "    .dataframe tbody tr th {\n",
       "        vertical-align: top;\n",
       "    }\n",
       "\n",
       "    .dataframe thead th {\n",
       "        text-align: right;\n",
       "    }\n",
       "</style>\n",
       "<table border=\"1\" class=\"dataframe\">\n",
       "  <thead>\n",
       "    <tr style=\"text-align: right;\">\n",
       "      <th></th>\n",
       "      <th>id</th>\n",
       "      <th>title</th>\n",
       "      <th>body</th>\n",
       "      <th>accepted_answer_id</th>\n",
       "      <th>answer_count</th>\n",
       "      <th>comment_count</th>\n",
       "      <th>community_owned_date</th>\n",
       "      <th>creation_date</th>\n",
       "      <th>favorite_count</th>\n",
       "      <th>last_activity_date</th>\n",
       "      <th>last_edit_date</th>\n",
       "      <th>last_editor_display_name</th>\n",
       "      <th>last_editor_user_id</th>\n",
       "      <th>owner_display_name</th>\n",
       "      <th>owner_user_id</th>\n",
       "      <th>parent_id</th>\n",
       "      <th>post_type_id</th>\n",
       "      <th>score</th>\n",
       "      <th>tags</th>\n",
       "      <th>view_count</th>\n",
       "    </tr>\n",
       "  </thead>\n",
       "  <tbody>\n",
       "    <tr>\n",
       "      <th>0</th>\n",
       "      <td>62111964</td>\n",
       "      <td>Sending custom params from client on silent re...</td>\n",
       "      <td>&lt;p&gt;Is there any way we could pass extra parame...</td>\n",
       "      <td>None</td>\n",
       "      <td>0</td>\n",
       "      <td>0</td>\n",
       "      <td>None</td>\n",
       "      <td>2020-05-31 05:30:55.990000+00:00</td>\n",
       "      <td>None</td>\n",
       "      <td>2020-05-31 05:30:55.990000+00:00</td>\n",
       "      <td>None</td>\n",
       "      <td>None</td>\n",
       "      <td>None</td>\n",
       "      <td>None</td>\n",
       "      <td>10062258</td>\n",
       "      <td>None</td>\n",
       "      <td>1</td>\n",
       "      <td>0</td>\n",
       "      <td>oauth-2.0|identityserver4|openiddict|angular-o...</td>\n",
       "      <td>1</td>\n",
       "    </tr>\n",
       "    <tr>\n",
       "      <th>1</th>\n",
       "      <td>61815842</td>\n",
       "      <td>What Cloud Storage or Service to use for excha...</td>\n",
       "      <td>&lt;p&gt;Storage has to be accessed by C++ and NodeJ...</td>\n",
       "      <td>None</td>\n",
       "      <td>0</td>\n",
       "      <td>0</td>\n",
       "      <td>None</td>\n",
       "      <td>2020-05-15 09:17:23.447000+00:00</td>\n",
       "      <td>None</td>\n",
       "      <td>2020-05-15 09:17:23.447000+00:00</td>\n",
       "      <td>None</td>\n",
       "      <td>None</td>\n",
       "      <td>None</td>\n",
       "      <td>None</td>\n",
       "      <td>2182080</td>\n",
       "      <td>None</td>\n",
       "      <td>1</td>\n",
       "      <td>0</td>\n",
       "      <td>cloud-storage|real-time-data</td>\n",
       "      <td>2</td>\n",
       "    </tr>\n",
       "    <tr>\n",
       "      <th>2</th>\n",
       "      <td>61833254</td>\n",
       "      <td>How to capture redirected link and send to std...</td>\n",
       "      <td>&lt;p&gt;Please I need help. Assuming I have this li...</td>\n",
       "      <td>None</td>\n",
       "      <td>0</td>\n",
       "      <td>0</td>\n",
       "      <td>None</td>\n",
       "      <td>2020-05-16 07:19:58.070000+00:00</td>\n",
       "      <td>None</td>\n",
       "      <td>2020-05-16 07:19:58.070000+00:00</td>\n",
       "      <td>None</td>\n",
       "      <td>None</td>\n",
       "      <td>None</td>\n",
       "      <td>None</td>\n",
       "      <td>11375445</td>\n",
       "      <td>None</td>\n",
       "      <td>1</td>\n",
       "      <td>0</td>\n",
       "      <td>shell|url|curl|redirect</td>\n",
       "      <td>2</td>\n",
       "    </tr>\n",
       "    <tr>\n",
       "      <th>3</th>\n",
       "      <td>61935894</td>\n",
       "      <td>where i should add \"clickAnalytics: true\" on f...</td>\n",
       "      <td>&lt;p&gt;I want to track/add data for conversion rat...</td>\n",
       "      <td>None</td>\n",
       "      <td>0</td>\n",
       "      <td>0</td>\n",
       "      <td>None</td>\n",
       "      <td>2020-05-21 13:42:25.997000+00:00</td>\n",
       "      <td>None</td>\n",
       "      <td>2020-05-21 13:42:25.997000+00:00</td>\n",
       "      <td>None</td>\n",
       "      <td>None</td>\n",
       "      <td>None</td>\n",
       "      <td>None</td>\n",
       "      <td>13120736</td>\n",
       "      <td>None</td>\n",
       "      <td>1</td>\n",
       "      <td>0</td>\n",
       "      <td>analytics|magento-1.9</td>\n",
       "      <td>2</td>\n",
       "    </tr>\n",
       "    <tr>\n",
       "      <th>4</th>\n",
       "      <td>61936080</td>\n",
       "      <td>How to avoid uploaded file name encrypt in nodejs</td>\n",
       "      <td>&lt;p&gt;In my code uploaded file name saved in loca...</td>\n",
       "      <td>None</td>\n",
       "      <td>0</td>\n",
       "      <td>0</td>\n",
       "      <td>None</td>\n",
       "      <td>2020-05-21 13:51:52.813000+00:00</td>\n",
       "      <td>None</td>\n",
       "      <td>2020-05-21 13:51:52.813000+00:00</td>\n",
       "      <td>None</td>\n",
       "      <td>None</td>\n",
       "      <td>None</td>\n",
       "      <td>None</td>\n",
       "      <td>13576535</td>\n",
       "      <td>None</td>\n",
       "      <td>1</td>\n",
       "      <td>0</td>\n",
       "      <td>node.js|angular8</td>\n",
       "      <td>2</td>\n",
       "    </tr>\n",
       "  </tbody>\n",
       "</table>\n",
       "</div>"
      ],
      "text/plain": [
       "         id                                              title  \\\n",
       "0  62111964  Sending custom params from client on silent re...   \n",
       "1  61815842  What Cloud Storage or Service to use for excha...   \n",
       "2  61833254  How to capture redirected link and send to std...   \n",
       "3  61935894  where i should add \"clickAnalytics: true\" on f...   \n",
       "4  61936080  How to avoid uploaded file name encrypt in nodejs   \n",
       "\n",
       "                                                body accepted_answer_id  \\\n",
       "0  <p>Is there any way we could pass extra parame...               None   \n",
       "1  <p>Storage has to be accessed by C++ and NodeJ...               None   \n",
       "2  <p>Please I need help. Assuming I have this li...               None   \n",
       "3  <p>I want to track/add data for conversion rat...               None   \n",
       "4  <p>In my code uploaded file name saved in loca...               None   \n",
       "\n",
       "   answer_count  comment_count community_owned_date  \\\n",
       "0             0              0                 None   \n",
       "1             0              0                 None   \n",
       "2             0              0                 None   \n",
       "3             0              0                 None   \n",
       "4             0              0                 None   \n",
       "\n",
       "                     creation_date favorite_count  \\\n",
       "0 2020-05-31 05:30:55.990000+00:00           None   \n",
       "1 2020-05-15 09:17:23.447000+00:00           None   \n",
       "2 2020-05-16 07:19:58.070000+00:00           None   \n",
       "3 2020-05-21 13:42:25.997000+00:00           None   \n",
       "4 2020-05-21 13:51:52.813000+00:00           None   \n",
       "\n",
       "                last_activity_date last_edit_date last_editor_display_name  \\\n",
       "0 2020-05-31 05:30:55.990000+00:00           None                     None   \n",
       "1 2020-05-15 09:17:23.447000+00:00           None                     None   \n",
       "2 2020-05-16 07:19:58.070000+00:00           None                     None   \n",
       "3 2020-05-21 13:42:25.997000+00:00           None                     None   \n",
       "4 2020-05-21 13:51:52.813000+00:00           None                     None   \n",
       "\n",
       "  last_editor_user_id owner_display_name  owner_user_id parent_id  \\\n",
       "0                None               None       10062258      None   \n",
       "1                None               None        2182080      None   \n",
       "2                None               None       11375445      None   \n",
       "3                None               None       13120736      None   \n",
       "4                None               None       13576535      None   \n",
       "\n",
       "   post_type_id  score                                               tags  \\\n",
       "0             1      0  oauth-2.0|identityserver4|openiddict|angular-o...   \n",
       "1             1      0                       cloud-storage|real-time-data   \n",
       "2             1      0                            shell|url|curl|redirect   \n",
       "3             1      0                              analytics|magento-1.9   \n",
       "4             1      0                                   node.js|angular8   \n",
       "\n",
       "   view_count  \n",
       "0           1  \n",
       "1           2  \n",
       "2           2  \n",
       "3           2  \n",
       "4           2  "
      ]
     },
     "execution_count": 6,
     "metadata": {},
     "output_type": "execute_result"
    }
   ],
   "source": [
    "# Construct a reference to the \"posts_questions\" table\n",
    "questions_table_ref = dataset_ref.table(\"posts_questions\")\n",
    "\n",
    "# API request - fetch the table\n",
    "questions_table = client.get_table(questions_table_ref)\n",
    "\n",
    "# Preview the first five lines of the \"posts_questions\" table\n",
    "client.list_rows(questions_table, max_results=5).to_dataframe()"
   ]
  },
  {
   "cell_type": "markdown",
   "execution_count": null,
   "metadata": {},
   "source": [
    "Are there any fields that identify what topic or technology each question is about? If so, how could you find the IDs of users who answered questions about a specific topic?\n",
    "\n",
    "Think about it, and then check the solution by running the code in the next cell."
   ]
  },
  {
   "cell_type": "code",
   "execution_count": 7,
   "metadata": {},
   "outputs": [
    {
     "data": {
      "application/javascript": [
       "parent.postMessage({\"jupyterEvent\": \"custom.exercise_interaction\", \"data\": {\"interactionType\": 3, \"questionType\": 4, \"questionId\": \"2_HowToFindExperts\", \"learnToolsVersion\": \"0.3.4\", \"valueTowardsCompletion\": 0.0, \"failureMessage\": \"\", \"exceptionClass\": \"\", \"trace\": \"\", \"outcomeType\": 4}}, \"*\")"
      ],
      "text/plain": [
       "<IPython.core.display.Javascript object>"
      ]
     },
     "metadata": {},
     "output_type": "display_data"
    },
    {
     "data": {
      "text/markdown": [
       "<span style=\"color:#33cc99\">Solution:</span> \n",
       "`posts_questions` has a column called `tags` which lists the topics/technologies each question is about.\n",
       "\n",
       "`posts_answers` has a column called `parent_id` which identifies the ID of the question each answer is responding to.\n",
       "`posts_answers` also has an `owner_user_id` column which specifies the ID of the user who answered the question.\n",
       "\n",
       "You can join these two tables to:\n",
       "- determine the `tags` for each answer, and then\n",
       "- select the `owner_user_id` of the answers on the desired tag.\n",
       "\n",
       "This is exactly what you will do over the next few questions.\n"
      ],
      "text/plain": [
       "Solution: \n",
       "`posts_questions` has a column called `tags` which lists the topics/technologies each question is about.\n",
       "\n",
       "`posts_answers` has a column called `parent_id` which identifies the ID of the question each answer is responding to.\n",
       "`posts_answers` also has an `owner_user_id` column which specifies the ID of the user who answered the question.\n",
       "\n",
       "You can join these two tables to:\n",
       "- determine the `tags` for each answer, and then\n",
       "- select the `owner_user_id` of the answers on the desired tag.\n",
       "\n",
       "This is exactly what you will do over the next few questions."
      ]
     },
     "metadata": {},
     "output_type": "display_data"
    }
   ],
   "source": [
    "# Check your answer (Run this code cell to receive credit!)\n",
    "q_2.solution()"
   ]
  },
  {
   "cell_type": "markdown",
   "execution_count": null,
   "metadata": {},
   "source": [
    "### 3) Selecting the right questions\n",
    "\n",
    "A lot of this data is text. \n",
    "\n",
    "We'll explore one last technique in this course which you can apply to this text.\n",
    "\n",
    "A **WHERE** clause can limit your results to rows with certain text using the **LIKE** feature. For example, to select just the third row of the `pets` table from the tutorial, we could use the query in the picture below.\n",
    "\n",
    "![](https://i.imgur.com/RccsXBr.png) \n",
    "\n",
    "You can also use `%` as a \"wildcard\" for any number of characters. So you can also get the third row with:\n",
    "\n",
    "```\n",
    "query = \"\"\"\n",
    "        SELECT * \n",
    "        FROM `bigquery-public-data.pet_records.pets` \n",
    "        WHERE Name LIKE '%ipl%'\n",
    "        \"\"\"\n",
    "```\n",
    "\n",
    "Try this yourself. Write a query that selects the `id`, `title` and `owner_user_id` columns from the `posts_questions` table. \n",
    "- Restrict the results to rows that contain the word \"bigquery\" in the `tags` column. \n",
    "- Include rows where there is other text in addition to the word \"bigquery\" (e.g., if a row has a tag \"bigquery-sql\", your results should include that too)."
   ]
  },
  {
   "cell_type": "code",
   "execution_count": 8,
   "metadata": {},
   "outputs": [
    {
     "name": "stdout",
     "output_type": "stream",
     "text": [
      "         id                                              title  owner_user_id\n",
      "0  33823840                  Query distinct in google bigquery      5262545.0\n",
      "1  33468029   Window function and time difference in Big Query      5436714.0\n",
      "2  33768448                  Pivot Repeated fields in BigQuery      1669372.0\n",
      "3  33883086  How to Automate the process of getting data fr...      5360262.0\n",
      "4  33744246         How to merge identical tables in bigquery?      5544072.0\n"
     ]
    },
    {
     "data": {
      "application/javascript": [
       "parent.postMessage({\"jupyterEvent\": \"custom.exercise_interaction\", \"data\": {\"outcomeType\": 1, \"valueTowardsCompletion\": 0.16666666666666666, \"interactionType\": 1, \"questionType\": 2, \"questionId\": \"3_SelectRightQuestions\", \"learnToolsVersion\": \"0.3.4\", \"failureMessage\": \"\", \"exceptionClass\": \"\", \"trace\": \"\"}}, \"*\")"
      ],
      "text/plain": [
       "<IPython.core.display.Javascript object>"
      ]
     },
     "metadata": {},
     "output_type": "display_data"
    },
    {
     "data": {
      "text/markdown": [
       "<span style=\"color:#33cc33\">Correct</span>"
      ],
      "text/plain": [
       "Correct"
      ]
     },
     "metadata": {},
     "output_type": "display_data"
    }
   ],
   "source": [
    "# Your code here\n",
    "questions_query = \"\"\"\n",
    "                  SELECT id, title, owner_user_id\n",
    "                  FROM `bigquery-public-data.stackoverflow.posts_questions`\n",
    "                  WHERE tags LIKE '%bigquery%'\n",
    "                  \"\"\"\n",
    "\n",
    "# Set up the query (cancel the query if it would use too much of \n",
    "# your quota, with the limit set to 1 GB)\n",
    "safe_config = bigquery.QueryJobConfig(maximum_bytes_billed=10**10)\n",
    "questions_query_job = client.query(questions_query, job_config=safe_config) # Your code goes here\n",
    "\n",
    "# API request - run the query, and return a pandas DataFrame\n",
    "questions_results = questions_query_job.to_dataframe() # Your code goes here\n",
    "\n",
    "# Preview results\n",
    "print(questions_results.head())\n",
    "\n",
    "# Check your answer\n",
    "q_3.check()"
   ]
  },
  {
   "cell_type": "markdown",
   "execution_count": null,
   "metadata": {},
   "source": [
    "For a hint or the solution, uncomment the appropriate line below."
   ]
  },
  {
   "cell_type": "code",
   "execution_count": 9,
   "metadata": {},
   "outputs": [],
   "source": [
    "#q_3.hint()\n",
    "#q_3.solution()"
   ]
  },
  {
   "cell_type": "markdown",
   "execution_count": null,
   "metadata": {},
   "source": [
    "### 4) Your first join\n",
    "Now that you have a query to select questions on any given topic (in this case, you chose \"bigquery\"), you can find the answers to those questions with a **JOIN**.  \n",
    "\n",
    "Write a query that returns the `id`, `body` and `owner_user_id` columns from the `posts_answers` table for answers to \"bigquery\"-related questions. \n",
    "- You should have one row in your results for each answer to a question that has \"bigquery\" in the tags.  \n",
    "- Remember you can get the tags for a question from the `tags` column in the `posts_questions` table.\n",
    "\n",
    "Here's a reminder of what a **JOIN** looked like in the tutorial:\n",
    "```\n",
    "query = \"\"\"\n",
    "        SELECT p.Name AS Pet_Name, o.Name AS Owner_Name\n",
    "        FROM `bigquery-public-data.pet_records.pets` as p\n",
    "        INNER JOIN `bigquery-public-data.pet_records.owners` as o \n",
    "            ON p.ID = o.Pet_ID\n",
    "        \"\"\"\n",
    "```\n",
    "\n",
    "It may be useful to scroll up and review the first several rows of the `posts_answers` and `posts_questions` tables.  "
   ]
  },
  {
   "cell_type": "code",
   "execution_count": 10,
   "metadata": {},
   "outputs": [
    {
     "name": "stdout",
     "output_type": "stream",
     "text": [
      "         id                                               body  owner_user_id\n",
      "0  57394653  <p>As noted in the <a href=\"https://cloud.goog...     11860456.0\n",
      "1  57395803  <p>The <code>for_each</code> property inside y...      1763012.0\n",
      "2  57399156  <p>I made some code changes and managed to gen...     11504069.0\n",
      "3  57399191  <p>I had this issue and determined that Pandas...      3933200.0\n",
      "4  57400889  <p>This is sql Query might help somone.</p>\\n\\...      1643518.0\n"
     ]
    },
    {
     "data": {
      "application/javascript": [
       "parent.postMessage({\"jupyterEvent\": \"custom.exercise_interaction\", \"data\": {\"outcomeType\": 1, \"valueTowardsCompletion\": 0.16666666666666666, \"interactionType\": 1, \"questionType\": 2, \"questionId\": \"4_FirstJoin\", \"learnToolsVersion\": \"0.3.4\", \"failureMessage\": \"\", \"exceptionClass\": \"\", \"trace\": \"\"}}, \"*\")"
      ],
      "text/plain": [
       "<IPython.core.display.Javascript object>"
      ]
     },
     "metadata": {},
     "output_type": "display_data"
    },
    {
     "data": {
      "text/markdown": [
       "<span style=\"color:#33cc33\">Correct</span>"
      ],
      "text/plain": [
       "Correct"
      ]
     },
     "metadata": {},
     "output_type": "display_data"
    }
   ],
   "source": [
    "# Your code here\n",
    "answers_query = \"\"\"\n",
    "                SELECT a.id, a.body, a.owner_user_id\n",
    "                FROM `bigquery-public-data.stackoverflow.posts_questions` AS q\n",
    "                INNER JOIN `bigquery-public-data.stackoverflow.posts_answers` AS a\n",
    "                ON a.parent_id = q.id\n",
    "                WHERE q.tags LIKE '%bigquery%'\n",
    "                \"\"\"\n",
    "\n",
    "\n",
    "# Set up the query\n",
    "safe_config = bigquery.QueryJobConfig(maximum_bytes_billed=10**11)\n",
    "answers_query_job = client.query(answers_query, job_config=safe_config) # Your code goes here\n",
    "\n",
    "# API request - run the query, and return a pandas DataFrame\n",
    "answers_results = answers_query_job.to_dataframe() # Your code goes here\n",
    "\n",
    "# Preview results\n",
    "print(answers_results.head())\n",
    "\n",
    "# Check your answer\n",
    "q_4.check()"
   ]
  },
  {
   "cell_type": "markdown",
   "execution_count": null,
   "metadata": {},
   "source": [
    "For a hint or the solution, uncomment the appropriate line below."
   ]
  },
  {
   "cell_type": "code",
   "execution_count": 11,
   "metadata": {},
   "outputs": [],
   "source": [
    "#q_4.hint()\n",
    "#q_4.solution()"
   ]
  },
  {
   "cell_type": "markdown",
   "execution_count": null,
   "metadata": {},
   "source": [
    "### 5) Answer the question\n",
    "You have the merge you need. But you want a list of users who have answered many questions... which requires more work beyond your previous result.\n",
    "\n",
    "Write a new query that has a single row for each user who answered at least one question with a tag that includes the string \"bigquery\". Your results should have two columns:\n",
    "- `user_id` - contains the `owner_user_id` column from the `posts_answers` table\n",
    "- `number_of_answers` - contains the number of answers the user has written to \"bigquery\"-related questions"
   ]
  },
  {
   "cell_type": "code",
   "execution_count": 12,
   "metadata": {},
   "outputs": [
    {
     "name": "stdout",
     "output_type": "stream",
     "text": [
      "     user_id  number_of_answers\n",
      "0  4539304.0                 20\n",
      "1  3421697.0                  4\n",
      "2    81019.0                  2\n",
      "3  3420738.0                  1\n",
      "4  6915507.0                 14\n"
     ]
    },
    {
     "data": {
      "application/javascript": [
       "parent.postMessage({\"jupyterEvent\": \"custom.exercise_interaction\", \"data\": {\"outcomeType\": 1, \"valueTowardsCompletion\": 0.16666666666666666, \"interactionType\": 1, \"questionType\": 2, \"questionId\": \"5_BigQueryExperts\", \"learnToolsVersion\": \"0.3.4\", \"failureMessage\": \"\", \"exceptionClass\": \"\", \"trace\": \"\"}}, \"*\")"
      ],
      "text/plain": [
       "<IPython.core.display.Javascript object>"
      ]
     },
     "metadata": {},
     "output_type": "display_data"
    },
    {
     "data": {
      "text/markdown": [
       "<span style=\"color:#33cc33\">Correct</span>"
      ],
      "text/plain": [
       "Correct"
      ]
     },
     "metadata": {},
     "output_type": "display_data"
    }
   ],
   "source": [
    "# Your code here\n",
    "bigquery_experts_query = \"\"\"\n",
    "                SELECT a.owner_user_id AS user_id,\n",
    "                       COUNT(1) AS number_of_answers\n",
    "                FROM `bigquery-public-data.stackoverflow.posts_questions` AS q \n",
    "                INNER JOIN `bigquery-public-data.stackoverflow.posts_answers` AS a\n",
    "                      ON q.id = a.parent_id\n",
    "                WHERE q.tags LIKE '%bigquery%'\n",
    "                GROUP BY user_id\n",
    "                \"\"\"\n",
    "\n",
    "# Set up the query\n",
    "safe_config = bigquery.QueryJobConfig(maximum_bytes_billed=10**10)\n",
    "bigquery_experts_query_job = client.query(bigquery_experts_query, job_config=safe_config) # Your code goes here\n",
    "\n",
    "# API request - run the query, and return a pandas DataFrame\n",
    "bigquery_experts_results = bigquery_experts_query_job.to_dataframe() # Your code goes here\n",
    "\n",
    "# Preview results\n",
    "print(bigquery_experts_results.head())\n",
    "\n",
    "# Check your answer\n",
    "q_5.check()"
   ]
  },
  {
   "cell_type": "markdown",
   "execution_count": null,
   "metadata": {},
   "source": [
    "For a hint or the solution, uncomment the appropriate line below."
   ]
  },
  {
   "cell_type": "code",
   "execution_count": 13,
   "metadata": {},
   "outputs": [],
   "source": [
    "#q_5.hint()\n",
    "#q_5.solution()"
   ]
  },
  {
   "cell_type": "markdown",
   "execution_count": null,
   "metadata": {},
   "source": [
    "### 6) Building a more generally useful service\n",
    "\n",
    "How could you convert what you've done to a general function a website could call on the backend to get experts on any topic?  \n",
    "\n",
    "Think about it and then check the solution below."
   ]
  },
  {
   "cell_type": "code",
   "execution_count": 14,
   "metadata": {},
   "outputs": [
    {
     "data": {
      "application/javascript": [
       "parent.postMessage({\"jupyterEvent\": \"custom.exercise_interaction\", \"data\": {\"interactionType\": 3, \"questionType\": 4, \"questionId\": \"6_GeneralizeExpertFinder\", \"learnToolsVersion\": \"0.3.4\", \"valueTowardsCompletion\": 0.0, \"failureMessage\": \"\", \"exceptionClass\": \"\", \"trace\": \"\", \"outcomeType\": 4}}, \"*\")"
      ],
      "text/plain": [
       "<IPython.core.display.Javascript object>"
      ]
     },
     "metadata": {},
     "output_type": "display_data"
    },
    {
     "data": {
      "text/markdown": [
       "<span style=\"color:#33cc99\">Solution:</span> \n",
       "```python\n",
       "\n",
       "def expert_finder(topic, client):\n",
       "    '''\n",
       "    Returns a DataFrame with the user IDs who have written Stack Overflow answers on a topic.\n",
       "\n",
       "    Inputs:\n",
       "        topic: A string with the topic of interest\n",
       "        client: A Client object that specifies the connection to the Stack Overflow dataset\n",
       "\n",
       "    Outputs:\n",
       "        results: A DataFrame with columns for user_id and number_of_answers. Follows similar logic to bigquery_experts_results shown above.\n",
       "    '''\n",
       "    my_query = \"\"\"\n",
       "               SELECT a.owner_user_id AS user_id, COUNT(1) AS number_of_answers\n",
       "               FROM `bigquery-public-data.stackoverflow.posts_questions` AS q\n",
       "               INNER JOIN `bigquery-public-data.stackoverflow.posts_answers` AS a\n",
       "                   ON q.id = a.parent_Id\n",
       "               WHERE q.tags like '%{topic}%'\n",
       "               GROUP BY a.owner_user_id\n",
       "               \"\"\"\n",
       "               \n",
       "    # Set up the query (a real service would have good error handling for \n",
       "    # queries that scan too much data)\n",
       "    safe_config = bigquery.QueryJobConfig(maximum_bytes_billed=10**10)      \n",
       "    my_query_job = client.query(my_query, job_config=safe_config)\n",
       "    \n",
       "    # API request - run the query, and return a pandas DataFrame\n",
       "    results = my_query_job.to_dataframe()\n",
       "\n",
       "    return results\n",
       "\n",
       "```"
      ],
      "text/plain": [
       "Solution: \n",
       "```python\n",
       "\n",
       "def expert_finder(topic, client):\n",
       "    '''\n",
       "    Returns a DataFrame with the user IDs who have written Stack Overflow answers on a topic.\n",
       "\n",
       "    Inputs:\n",
       "        topic: A string with the topic of interest\n",
       "        client: A Client object that specifies the connection to the Stack Overflow dataset\n",
       "\n",
       "    Outputs:\n",
       "        results: A DataFrame with columns for user_id and number_of_answers. Follows similar logic to bigquery_experts_results shown above.\n",
       "    '''\n",
       "    my_query = \"\"\"\n",
       "               SELECT a.owner_user_id AS user_id, COUNT(1) AS number_of_answers\n",
       "               FROM `bigquery-public-data.stackoverflow.posts_questions` AS q\n",
       "               INNER JOIN `bigquery-public-data.stackoverflow.posts_answers` AS a\n",
       "                   ON q.id = a.parent_Id\n",
       "               WHERE q.tags like '%{topic}%'\n",
       "               GROUP BY a.owner_user_id\n",
       "               \"\"\"\n",
       "               \n",
       "    # Set up the query (a real service would have good error handling for \n",
       "    # queries that scan too much data)\n",
       "    safe_config = bigquery.QueryJobConfig(maximum_bytes_billed=10**10)      \n",
       "    my_query_job = client.query(my_query, job_config=safe_config)\n",
       "    \n",
       "    # API request - run the query, and return a pandas DataFrame\n",
       "    results = my_query_job.to_dataframe()\n",
       "\n",
       "    return results\n",
       "\n",
       "```"
      ]
     },
     "metadata": {},
     "output_type": "display_data"
    }
   ],
   "source": [
    "# Check your answer (Run this code cell to receive credit!)\n",
    "q_6.solution()"
   ]
  },
  {
   "cell_type": "markdown",
   "execution_count": null,
   "metadata": {},
   "source": [
    "# Congratulations!\n",
    "\n",
    "You know all the key components to use BigQuery and SQL effectively. Your SQL skills are sufficient to unlock many of the world's largest datasets.\n",
    "\n",
    "Want to go play with your new powers?  Kaggle has BigQuery datasets available [here](https://www.kaggle.com/datasets?fileType=bigQuery)."
   ]
  },
  {
   "cell_type": "markdown",
   "execution_count": null,
   "metadata": {},
   "source": [
    "---\n",
    "**[SQL Home Page](https://www.kaggle.com/learn/intro-to-sql)**\n",
    "\n",
    "\n",
    "\n",
    "\n",
    "\n",
    "*Have questions or comments? Visit the [Learn Discussion forum](https://www.kaggle.com/learn-forum/161314) to chat with other Learners.*"
   ]
  }
 ],
 "metadata": {
  "kernelspec": {
   "display_name": "Python 3",
   "language": "python",
   "name": "python3"
  },
  "language_info": {
   "codemirror_mode": {
    "name": "ipython",
    "version": 3
   },
   "file_extension": ".py",
   "mimetype": "text/x-python",
   "name": "python",
   "nbconvert_exporter": "python",
   "pygments_lexer": "ipython3",
   "version": "3.7.6"
  }
 },
 "nbformat": 4,
 "nbformat_minor": 4
}
