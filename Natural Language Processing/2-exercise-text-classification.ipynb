{
 "cells": [
  {
   "cell_type": "markdown",
   "metadata": {
    "papermill": {
     "duration": 0.019733,
     "end_time": "2020-09-14T10:16:58.324214",
     "exception": false,
     "start_time": "2020-09-14T10:16:58.304481",
     "status": "completed"
    },
    "tags": []
   },
   "source": [
    "**[Natural Language Processing Home Page](https://www.kaggle.com/learn/natural-language-processing)**\n",
    "\n",
    "---\n"
   ]
  },
  {
   "cell_type": "markdown",
   "metadata": {
    "papermill": {
     "duration": 0.018897,
     "end_time": "2020-09-14T10:16:58.362492",
     "exception": false,
     "start_time": "2020-09-14T10:16:58.343595",
     "status": "completed"
    },
    "tags": []
   },
   "source": [
    "# Natural Language Classification\n",
    "\n",
    "You did a great such a great job for DeFalco's restaurant in the previous exercise that the chef has hired you for a new project.\n",
    "\n",
    "The restaurant's menu includes an email address where visitors can give feedback about their food. \n",
    "\n",
    "The manager wants you to create a tool that automatically sends him all the negative reviews so he can fix them, while automatically sending all the positive reviews to the owner, so the manager can ask for a raise. \n",
    "\n",
    "You will first build a model to distinguish positive reviews from negative reviews using Yelp reviews because these reviews include a rating with each review. Your data consists of the text body of each review along with the star rating. Ratings with 1-2 stars count as \"negative\", and ratings with 4-5 stars are \"positive\". Ratings with 3 stars are \"neutral\" and have been dropped from the data.\n",
    "\n",
    "Let's get started. First, run the next code cell."
   ]
  },
  {
   "cell_type": "code",
   "execution_count": 1,
   "metadata": {
    "execution": {
     "iopub.execute_input": "2020-09-14T10:16:58.408417Z",
     "iopub.status.busy": "2020-09-14T10:16:58.407669Z",
     "iopub.status.idle": "2020-09-14T10:17:18.094078Z",
     "shell.execute_reply": "2020-09-14T10:17:18.093363Z"
    },
    "papermill": {
     "duration": 19.71335,
     "end_time": "2020-09-14T10:17:18.094200",
     "exception": false,
     "start_time": "2020-09-14T10:16:58.380850",
     "status": "completed"
    },
    "tags": []
   },
   "outputs": [
    {
     "name": "stdout",
     "output_type": "stream",
     "text": [
      "Collecting git+https://github.com/Kaggle/learntools.git\r\n",
      "  Cloning https://github.com/Kaggle/learntools.git to /tmp/pip-req-build-r1tn953m\r\n",
      "Building wheels for collected packages: learntools\r\n",
      "  Building wheel for learntools (setup.py) ... \u001b[?25l-\b \b\\\b \b|\b \bdone\r\n",
      "\u001b[?25h  Created wheel for learntools: filename=learntools-0.3.4-py3-none-any.whl size=205496 sha256=d7cd59c355cb52430ca1eae3d772192223aa633ffa48d08368c457cef65162d0\r\n",
      "  Stored in directory: /tmp/pip-ephem-wheel-cache-zalsdjlq/wheels/dd/d7/6b/0fc758f52767fd281d6dceded6757c6cb5bb90ccd2dbb1de9f\r\n",
      "Successfully built learntools\r\n",
      "Installing collected packages: learntools\r\n",
      "Successfully installed learntools-0.3.4\r\n",
      "\u001b[33mWARNING: You are using pip version 20.2.2; however, version 20.2.3 is available.\r\n",
      "You should consider upgrading via the '/opt/conda/bin/python3.7 -m pip install --upgrade pip' command.\u001b[0m\r\n",
      "\n",
      "Setup complete\n"
     ]
    }
   ],
   "source": [
    "import pandas as pd\n",
    "\n",
    "# Set up code checking\n",
    "!pip install -U -t /kaggle/working/ git+https://github.com/Kaggle/learntools.git\n",
    "from learntools.core import binder\n",
    "binder.bind(globals())\n",
    "from learntools.nlp.ex2 import *\n",
    "print(\"\\nSetup complete\")"
   ]
  },
  {
   "cell_type": "markdown",
   "metadata": {
    "papermill": {
     "duration": 0.022368,
     "end_time": "2020-09-14T10:17:18.140533",
     "exception": false,
     "start_time": "2020-09-14T10:17:18.118165",
     "status": "completed"
    },
    "tags": []
   },
   "source": [
    "# Step 1: Evaluate the Approach\n",
    "\n",
    "Is there anything about this approach that concerns you? After you've thought about it, run the function below to see one point of view."
   ]
  },
  {
   "cell_type": "code",
   "execution_count": 2,
   "metadata": {
    "execution": {
     "iopub.execute_input": "2020-09-14T10:17:18.193407Z",
     "iopub.status.busy": "2020-09-14T10:17:18.192678Z",
     "iopub.status.idle": "2020-09-14T10:17:18.198790Z",
     "shell.execute_reply": "2020-09-14T10:17:18.198178Z"
    },
    "papermill": {
     "duration": 0.034532,
     "end_time": "2020-09-14T10:17:18.198910",
     "exception": false,
     "start_time": "2020-09-14T10:17:18.164378",
     "status": "completed"
    },
    "tags": []
   },
   "outputs": [
    {
     "data": {
      "application/javascript": [
       "parent.postMessage({\"jupyterEvent\": \"custom.exercise_interaction\", \"data\": {\"interactionType\": 3, \"questionType\": 4, \"questionId\": \"1_EvaluateFeedbackFormApproach\", \"learnToolsVersion\": \"0.3.4\", \"valueTowardsCompletion\": 0.0, \"failureMessage\": \"\", \"exceptionClass\": \"\", \"trace\": \"\", \"outcomeType\": 4}}, \"*\")"
      ],
      "text/plain": [
       "<IPython.core.display.Javascript object>"
      ]
     },
     "metadata": {},
     "output_type": "display_data"
    },
    {
     "data": {
      "text/markdown": [
       "<span style=\"color:#33cc99\">Solution:</span> Any way of setting up an ML problem will have multiple strengths and weaknesses.  So you may have thought of different issues than listed here.\n",
       "\n",
       "The strength of this approach is that it allows you to distinguish positive email messages from negative emails even though you don't have historical emails that you have labeled as positive or negative.\n",
       "\n",
       "The weakness of this approach is that emails may be systematically different from Yelp reviews in ways that make your model less accurate. For example, customers might generally use different words or slang in emails, and the model based on Yelp reviews won't have seen these words.\n",
       "\n",
       "If you wanted to see how serious this issue is, you could compare word frequencies between the two sources. In practice, manually reading a few emails from each source may be enough to see if it's a serious issue. \n",
       "\n",
       "If you wanted to do something fancier, you could create a dataset that contains both Yelp reviews and emails and see whether a model can tell a reviews source from the text content. Ideally, you'd like to find that model didn't perform well, because it would mean your data sources are similar. That approach seems unnecessarily complex here."
      ],
      "text/plain": [
       "Solution: Any way of setting up an ML problem will have multiple strengths and weaknesses.  So you may have thought of different issues than listed here.\n",
       "\n",
       "The strength of this approach is that it allows you to distinguish positive email messages from negative emails even though you don't have historical emails that you have labeled as positive or negative.\n",
       "\n",
       "The weakness of this approach is that emails may be systematically different from Yelp reviews in ways that make your model less accurate. For example, customers might generally use different words or slang in emails, and the model based on Yelp reviews won't have seen these words.\n",
       "\n",
       "If you wanted to see how serious this issue is, you could compare word frequencies between the two sources. In practice, manually reading a few emails from each source may be enough to see if it's a serious issue. \n",
       "\n",
       "If you wanted to do something fancier, you could create a dataset that contains both Yelp reviews and emails and see whether a model can tell a reviews source from the text content. Ideally, you'd like to find that model didn't perform well, because it would mean your data sources are similar. That approach seems unnecessarily complex here."
      ]
     },
     "metadata": {},
     "output_type": "display_data"
    }
   ],
   "source": [
    "# Check your answer (Run this code cell to receive credit!)\n",
    "step_1.solution()"
   ]
  },
  {
   "cell_type": "markdown",
   "metadata": {
    "papermill": {
     "duration": 0.022656,
     "end_time": "2020-09-14T10:17:18.244836",
     "exception": false,
     "start_time": "2020-09-14T10:17:18.222180",
     "status": "completed"
    },
    "tags": []
   },
   "source": [
    "# Step 2: Review Data and Create the model\n",
    "\n",
    "Moving forward with your plan, you'll need to load the data. Here's some basic code to load data and split it into a training and validation set. Run this code."
   ]
  },
  {
   "cell_type": "code",
   "execution_count": 3,
   "metadata": {
    "execution": {
     "iopub.execute_input": "2020-09-14T10:17:18.302269Z",
     "iopub.status.busy": "2020-09-14T10:17:18.301563Z",
     "iopub.status.idle": "2020-09-14T10:17:18.703637Z",
     "shell.execute_reply": "2020-09-14T10:17:18.704197Z"
    },
    "papermill": {
     "duration": 0.436632,
     "end_time": "2020-09-14T10:17:18.704342",
     "exception": false,
     "start_time": "2020-09-14T10:17:18.267710",
     "status": "completed"
    },
    "tags": []
   },
   "outputs": [],
   "source": [
    "def load_data(csv_file, split=0.9):\n",
    "    data = pd.read_csv(csv_file)\n",
    "    \n",
    "    # Shuffle data\n",
    "    train_data = data.sample(frac=1, random_state=7)\n",
    "    \n",
    "    texts = train_data.text.values\n",
    "    labels = [{\"POSITIVE\": bool(y), \"NEGATIVE\": not bool(y)}\n",
    "              for y in train_data.sentiment.values]\n",
    "    split = int(len(train_data) * split)\n",
    "    \n",
    "    train_labels = [{\"cats\": labels} for labels in labels[:split]]\n",
    "    val_labels = [{\"cats\": labels} for labels in labels[split:]]\n",
    "    \n",
    "    return texts[:split], train_labels, texts[split:], val_labels\n",
    "\n",
    "train_texts, train_labels, val_texts, val_labels = load_data('../input/nlp-course/yelp_ratings.csv')"
   ]
  },
  {
   "cell_type": "markdown",
   "metadata": {
    "papermill": {
     "duration": 0.022893,
     "end_time": "2020-09-14T10:17:18.751494",
     "exception": false,
     "start_time": "2020-09-14T10:17:18.728601",
     "status": "completed"
    },
    "tags": []
   },
   "source": [
    "You will use this training data to build a model. The code to build the model is the same as what you saw in the tutorial. So that is copied below for you.\n",
    "\n",
    "But because your data is different, there are **two lines in the modeling code cell that you'll need to change.** Can you figure out what they are? \n",
    "\n",
    "First, run the cell below to look at a couple elements from your training data."
   ]
  },
  {
   "cell_type": "code",
   "execution_count": 4,
   "metadata": {
    "execution": {
     "iopub.execute_input": "2020-09-14T10:17:18.801365Z",
     "iopub.status.busy": "2020-09-14T10:17:18.800698Z",
     "iopub.status.idle": "2020-09-14T10:17:18.808307Z",
     "shell.execute_reply": "2020-09-14T10:17:18.809454Z"
    },
    "papermill": {
     "duration": 0.035074,
     "end_time": "2020-09-14T10:17:18.809692",
     "exception": false,
     "start_time": "2020-09-14T10:17:18.774618",
     "status": "completed"
    },
    "tags": []
   },
   "outputs": [
    {
     "name": "stdout",
     "output_type": "stream",
     "text": [
      "Texts from training data\n",
      "------\n",
      "[\"Some of the best sushi I've ever had....and I come from the East Coast.  Unreal toro, have some of it's available.\"\n",
      " \"One of the best burgers I've ever had and very well priced. I got the tortilla burger and is was delicious especially with there tortilla soup!\"]\n",
      "\n",
      "Labels from training data\n",
      "------\n",
      "[{'cats': {'POSITIVE': True, 'NEGATIVE': False}}, {'cats': {'POSITIVE': True, 'NEGATIVE': False}}]\n"
     ]
    }
   ],
   "source": [
    "print('Texts from training data\\n------')\n",
    "print(train_texts[:2])\n",
    "print('\\nLabels from training data\\n------')\n",
    "print(train_labels[:2])\n"
   ]
  },
  {
   "cell_type": "markdown",
   "metadata": {
    "papermill": {
     "duration": 0.023235,
     "end_time": "2020-09-14T10:17:18.857164",
     "exception": false,
     "start_time": "2020-09-14T10:17:18.833929",
     "status": "completed"
    },
    "tags": []
   },
   "source": [
    "Now, having seen this data, find the two lines that need to be changed."
   ]
  },
  {
   "cell_type": "code",
   "execution_count": 5,
   "metadata": {
    "execution": {
     "iopub.execute_input": "2020-09-14T10:17:18.914282Z",
     "iopub.status.busy": "2020-09-14T10:17:18.913516Z",
     "iopub.status.idle": "2020-09-14T10:17:19.355123Z",
     "shell.execute_reply": "2020-09-14T10:17:19.355951Z"
    },
    "papermill": {
     "duration": 0.474545,
     "end_time": "2020-09-14T10:17:19.356124",
     "exception": false,
     "start_time": "2020-09-14T10:17:18.881579",
     "status": "completed"
    },
    "tags": []
   },
   "outputs": [
    {
     "data": {
      "application/javascript": [
       "parent.postMessage({\"jupyterEvent\": \"custom.exercise_interaction\", \"data\": {\"outcomeType\": 1, \"valueTowardsCompletion\": 0.16666666666666666, \"interactionType\": 1, \"questionType\": 2, \"questionId\": \"2_CreateTextCatModel\", \"learnToolsVersion\": \"0.3.4\", \"failureMessage\": \"\", \"exceptionClass\": \"\", \"trace\": \"\"}}, \"*\")"
      ],
      "text/plain": [
       "<IPython.core.display.Javascript object>"
      ]
     },
     "metadata": {},
     "output_type": "display_data"
    },
    {
     "data": {
      "text/markdown": [
       "<span style=\"color:#33cc33\">Correct</span>"
      ],
      "text/plain": [
       "Correct"
      ]
     },
     "metadata": {},
     "output_type": "display_data"
    }
   ],
   "source": [
    "import spacy\n",
    "\n",
    "# Create an empty model\n",
    "nlp = spacy.blank(\"en\")\n",
    "\n",
    "# Create the TextCategorizer with exclusive classes and \"bow\" architecture\n",
    "textcat = nlp.create_pipe(\n",
    "              \"textcat\",\n",
    "              config={\n",
    "                \"exclusive_classes\": True,\n",
    "                \"architecture\": \"bow\"})\n",
    "\n",
    "# Add the TextCategorizer to the empty model\n",
    "nlp.add_pipe(textcat)\n",
    "\n",
    "# Add labels to text classifier\n",
    "textcat.add_label(\"NEGATIVE\")\n",
    "textcat.add_label(\"POSITIVE\")\n",
    "\n",
    "# Check your answer\n",
    "step_2.check()"
   ]
  },
  {
   "cell_type": "code",
   "execution_count": 6,
   "metadata": {
    "execution": {
     "iopub.execute_input": "2020-09-14T10:17:19.411556Z",
     "iopub.status.busy": "2020-09-14T10:17:19.410863Z",
     "iopub.status.idle": "2020-09-14T10:17:19.414182Z",
     "shell.execute_reply": "2020-09-14T10:17:19.414771Z"
    },
    "papermill": {
     "duration": 0.032268,
     "end_time": "2020-09-14T10:17:19.414928",
     "exception": false,
     "start_time": "2020-09-14T10:17:19.382660",
     "status": "completed"
    },
    "tags": []
   },
   "outputs": [],
   "source": [
    "# Lines below will give you a hint or solution code\n",
    "#step_2.hint()\n",
    "#step_2.solution()"
   ]
  },
  {
   "cell_type": "markdown",
   "metadata": {
    "papermill": {
     "duration": 0.024582,
     "end_time": "2020-09-14T10:17:19.465169",
     "exception": false,
     "start_time": "2020-09-14T10:17:19.440587",
     "status": "completed"
    },
    "tags": []
   },
   "source": [
    "# Step 3: Train Function\n",
    "\n",
    "Implement a function `train` that updates a model with training data. Most of this is general data munging, which we've filled in for you. Just add the one line of code necessary to update your model."
   ]
  },
  {
   "cell_type": "code",
   "execution_count": 7,
   "metadata": {
    "execution": {
     "iopub.execute_input": "2020-09-14T10:17:19.518385Z",
     "iopub.status.busy": "2020-09-14T10:17:19.517724Z",
     "iopub.status.idle": "2020-09-14T10:17:25.934748Z",
     "shell.execute_reply": "2020-09-14T10:17:25.935264Z"
    },
    "papermill": {
     "duration": 6.445143,
     "end_time": "2020-09-14T10:17:25.935406",
     "exception": false,
     "start_time": "2020-09-14T10:17:19.490263",
     "status": "completed"
    },
    "tags": []
   },
   "outputs": [
    {
     "data": {
      "application/javascript": [
       "parent.postMessage({\"jupyterEvent\": \"custom.exercise_interaction\", \"data\": {\"outcomeType\": 1, \"valueTowardsCompletion\": 0.16666666666666666, \"interactionType\": 1, \"questionType\": 2, \"questionId\": \"3_TrainFunction\", \"learnToolsVersion\": \"0.3.4\", \"failureMessage\": \"\", \"exceptionClass\": \"\", \"trace\": \"\"}}, \"*\")"
      ],
      "text/plain": [
       "<IPython.core.display.Javascript object>"
      ]
     },
     "metadata": {},
     "output_type": "display_data"
    },
    {
     "data": {
      "text/markdown": [
       "<span style=\"color:#33cc33\">Correct</span>"
      ],
      "text/plain": [
       "Correct"
      ]
     },
     "metadata": {},
     "output_type": "display_data"
    }
   ],
   "source": [
    "from spacy.util import minibatch\n",
    "import random\n",
    "\n",
    "def train(model, train_data, optimizer):\n",
    "    losses = {}\n",
    "    random.seed(1)\n",
    "    random.shuffle(train_data)\n",
    "    \n",
    "    batches = minibatch(train_data, size=8)\n",
    "    for batch in batches:\n",
    "        # train_data is a list of tuples [(text0, label0), (text1, label1), ...]\n",
    "        # Split batch into texts and labels\n",
    "        texts, labels = zip(*batch)\n",
    "        \n",
    "        # Update model with texts and labels\n",
    "        model.update(texts, labels, sgd=optimizer, losses=losses)\n",
    "        \n",
    "    return losses\n",
    "\n",
    "# Check your answer\n",
    "step_3.check()"
   ]
  },
  {
   "cell_type": "code",
   "execution_count": 8,
   "metadata": {
    "execution": {
     "iopub.execute_input": "2020-09-14T10:17:25.993193Z",
     "iopub.status.busy": "2020-09-14T10:17:25.992008Z",
     "iopub.status.idle": "2020-09-14T10:17:25.995364Z",
     "shell.execute_reply": "2020-09-14T10:17:25.994827Z"
    },
    "papermill": {
     "duration": 0.034025,
     "end_time": "2020-09-14T10:17:25.995475",
     "exception": false,
     "start_time": "2020-09-14T10:17:25.961450",
     "status": "completed"
    },
    "tags": []
   },
   "outputs": [],
   "source": [
    "# Lines below will give you a hint or solution code\n",
    "#step_3.hint()\n",
    "#step_3.solution()"
   ]
  },
  {
   "cell_type": "code",
   "execution_count": 9,
   "metadata": {
    "execution": {
     "iopub.execute_input": "2020-09-14T10:17:26.178742Z",
     "iopub.status.busy": "2020-09-14T10:17:26.163343Z",
     "iopub.status.idle": "2020-09-14T10:19:12.379572Z",
     "shell.execute_reply": "2020-09-14T10:19:12.380401Z"
    },
    "papermill": {
     "duration": 106.357641,
     "end_time": "2020-09-14T10:19:12.380635",
     "exception": false,
     "start_time": "2020-09-14T10:17:26.022994",
     "status": "completed"
    },
    "tags": []
   },
   "outputs": [
    {
     "name": "stdout",
     "output_type": "stream",
     "text": [
      "8.704142065520301\n"
     ]
    }
   ],
   "source": [
    "# Fix seed for reproducibility\n",
    "spacy.util.fix_random_seed(1)\n",
    "random.seed(1)\n",
    "\n",
    "# This may take a while to run!\n",
    "optimizer = nlp.begin_training()\n",
    "train_data = list(zip(train_texts, train_labels))\n",
    "losses = train(nlp, train_data, optimizer)\n",
    "print(losses['textcat'])"
   ]
  },
  {
   "cell_type": "markdown",
   "metadata": {
    "papermill": {
     "duration": 0.026931,
     "end_time": "2020-09-14T10:19:12.437942",
     "exception": false,
     "start_time": "2020-09-14T10:19:12.411011",
     "status": "completed"
    },
    "tags": []
   },
   "source": [
    "We can try this slightly trained model on some example text and look at the probabilities assigned to each label."
   ]
  },
  {
   "cell_type": "code",
   "execution_count": 10,
   "metadata": {
    "execution": {
     "iopub.execute_input": "2020-09-14T10:19:12.502187Z",
     "iopub.status.busy": "2020-09-14T10:19:12.501476Z",
     "iopub.status.idle": "2020-09-14T10:19:12.505545Z",
     "shell.execute_reply": "2020-09-14T10:19:12.506445Z"
    },
    "papermill": {
     "duration": 0.040405,
     "end_time": "2020-09-14T10:19:12.506670",
     "exception": false,
     "start_time": "2020-09-14T10:19:12.466265",
     "status": "completed"
    },
    "tags": []
   },
   "outputs": [
    {
     "name": "stdout",
     "output_type": "stream",
     "text": [
      "{'NEGATIVE': 0.7737048864364624, 'POSITIVE': 0.22629515826702118}\n"
     ]
    }
   ],
   "source": [
    "text = \"This tea cup was full of holes. Do not recommend.\"\n",
    "doc = nlp(text)\n",
    "print(doc.cats)"
   ]
  },
  {
   "cell_type": "markdown",
   "metadata": {
    "papermill": {
     "duration": 0.027121,
     "end_time": "2020-09-14T10:19:12.562376",
     "exception": false,
     "start_time": "2020-09-14T10:19:12.535255",
     "status": "completed"
    },
    "tags": []
   },
   "source": [
    "These probabilities look reasonable. Now you should turn them into an actual prediction.\n",
    "\n",
    "# Step 4: Making Predictions\n",
    "\n",
    "Implement a function `predict` that predicts the sentiment of text examples. \n",
    "- First, tokenize the texts using `nlp.tokenizer()`. \n",
    "- Then, pass those docs to the TextCategorizer which you can get from `nlp.get_pipe()`. \n",
    "- Use the `textcat.predict()` method to get scores for each document, then choose the class with the highest score (probability) as the predicted class."
   ]
  },
  {
   "cell_type": "code",
   "execution_count": 11,
   "metadata": {
    "execution": {
     "iopub.execute_input": "2020-09-14T10:19:12.621814Z",
     "iopub.status.busy": "2020-09-14T10:19:12.621047Z",
     "iopub.status.idle": "2020-09-14T10:19:15.754951Z",
     "shell.execute_reply": "2020-09-14T10:19:15.755628Z"
    },
    "papermill": {
     "duration": 3.165431,
     "end_time": "2020-09-14T10:19:15.755811",
     "exception": false,
     "start_time": "2020-09-14T10:19:12.590380",
     "status": "completed"
    },
    "tags": []
   },
   "outputs": [
    {
     "data": {
      "application/javascript": [
       "parent.postMessage({\"jupyterEvent\": \"custom.exercise_interaction\", \"data\": {\"outcomeType\": 1, \"valueTowardsCompletion\": 0.16666666666666666, \"interactionType\": 1, \"questionType\": 2, \"questionId\": \"4_PredictFunction\", \"learnToolsVersion\": \"0.3.4\", \"failureMessage\": \"\", \"exceptionClass\": \"\", \"trace\": \"\"}}, \"*\")"
      ],
      "text/plain": [
       "<IPython.core.display.Javascript object>"
      ]
     },
     "metadata": {},
     "output_type": "display_data"
    },
    {
     "data": {
      "text/markdown": [
       "<span style=\"color:#33cc33\">Correct</span>"
      ],
      "text/plain": [
       "Correct"
      ]
     },
     "metadata": {},
     "output_type": "display_data"
    }
   ],
   "source": [
    "def predict(nlp, texts): \n",
    "    # Use the model's tokenizer to tokenize each input text\n",
    "    docs = [nlp(text) for text in texts]\n",
    "    \n",
    "    # Use textcat to get the scores for each doc\n",
    "    textcat = nlp.get_pipe('textcat')\n",
    "    scores, _ = textcat.predict(docs)\n",
    "    \n",
    "    # From the scores, find the class with the highest score/probability\n",
    "    predicted_class = scores.argmax(axis=1)\n",
    "    \n",
    "    return predicted_class\n",
    "\n",
    "# Check your answer\n",
    "step_4.check()"
   ]
  },
  {
   "cell_type": "code",
   "execution_count": 12,
   "metadata": {
    "execution": {
     "iopub.execute_input": "2020-09-14T10:19:15.824057Z",
     "iopub.status.busy": "2020-09-14T10:19:15.823267Z",
     "iopub.status.idle": "2020-09-14T10:19:15.825163Z",
     "shell.execute_reply": "2020-09-14T10:19:15.824648Z"
    },
    "papermill": {
     "duration": 0.03699,
     "end_time": "2020-09-14T10:19:15.825282",
     "exception": false,
     "start_time": "2020-09-14T10:19:15.788292",
     "status": "completed"
    },
    "tags": []
   },
   "outputs": [],
   "source": [
    "# Lines below will give you a hint or solution code\n",
    "#step_4.hint()\n",
    "#step_4.solution()"
   ]
  },
  {
   "cell_type": "code",
   "execution_count": 13,
   "metadata": {
    "execution": {
     "iopub.execute_input": "2020-09-14T10:19:15.894722Z",
     "iopub.status.busy": "2020-09-14T10:19:15.891382Z",
     "iopub.status.idle": "2020-09-14T10:19:15.901417Z",
     "shell.execute_reply": "2020-09-14T10:19:15.902256Z"
    },
    "papermill": {
     "duration": 0.048162,
     "end_time": "2020-09-14T10:19:15.902534",
     "exception": false,
     "start_time": "2020-09-14T10:19:15.854372",
     "status": "completed"
    },
    "tags": []
   },
   "outputs": [
    {
     "name": "stdout",
     "output_type": "stream",
     "text": [
      "POSITIVE: Came over and had their \"Pick 2\" lunch combo and chose their best selling 1/2 chicken sandwich with quinoa.  Both were tasty, the chicken salad is a bit creamy but was perfect with quinoa on the side.  This is a good lunch joint, casual and clean! \n",
      "\n",
      "POSITIVE: Went here last night and got oysters, fried okra, fries, and onion rings. I cannot complain. The portions were great and tasty!!! I will definitely be back for more. I cannot wait to try the crawfish boudin and soft shell crab. \n",
      "\n",
      "POSITIVE: This restaurant was fantastic! \n",
      "The concept of eating without vision was intriguing. The dinner was filled with laughs and good conversation. \n",
      "\n",
      "We were lead in a line to our table and each person to their seat. This was not just dark but you could not see something right in front of your face. \n",
      "\n",
      "The waiters/waitresses were all blind and allowed us to see how aware you need to be without the vision. \n",
      "\n",
      "Taking away one sense is said to increase your other senses so as taste and hearing which I believed to be true in this experience. \n",
      "\n",
      "The meal was extremely delicious. I had the chicken and it was cooked to perfection. I also had a surprise beer which was a nice surprise. \n",
      "\n",
      "The whole experience was unlike anything I have ever done and I hope this spreads to other cities. \n",
      "\n",
      "A must do! \n",
      "\n",
      "NEGATIVE: They won't book new patients for same day appointments. My dog is sick but it's not necessarily urgent so I asked when I would be able to book an appointment and was told \"new patients book out at least 6 weeks in advance\" so just a heads up this seems like a great vet from other reviews but it'll be hard to get in their system to know \n",
      "\n"
     ]
    }
   ],
   "source": [
    "texts = val_texts[34:38]\n",
    "predictions = predict(nlp, texts)\n",
    "\n",
    "for p, t in zip(predictions, texts):\n",
    "    print(f\"{textcat.labels[p]}: {t} \\n\")"
   ]
  },
  {
   "cell_type": "markdown",
   "metadata": {
    "papermill": {
     "duration": 0.029567,
     "end_time": "2020-09-14T10:19:15.963132",
     "exception": false,
     "start_time": "2020-09-14T10:19:15.933565",
     "status": "completed"
    },
    "tags": []
   },
   "source": [
    "It looks like your model is working well after going through the data just once. However you need to calculate some metric for the model's performance on the hold-out validation data.\n",
    "\n",
    "# Step 5: Evaluate The Model\n",
    "\n",
    "Implement a function that evaluates a `TextCategorizer` model. This function `evaluate` takes a model along with texts and labels. It returns the accuracy of the model, which is the number of correct predictions divided by all predictions.\n",
    "\n",
    "First, use the `predict` method you wrote earlier to get the predicted class for each text in `texts`. Then, find where the predicted labels match the true \"gold-standard\" labels and calculate the accuracy."
   ]
  },
  {
   "cell_type": "code",
   "execution_count": 14,
   "metadata": {
    "execution": {
     "iopub.execute_input": "2020-09-14T10:19:16.026059Z",
     "iopub.status.busy": "2020-09-14T10:19:16.025215Z",
     "iopub.status.idle": "2020-09-14T10:19:19.147600Z",
     "shell.execute_reply": "2020-09-14T10:19:19.146945Z"
    },
    "papermill": {
     "duration": 3.155161,
     "end_time": "2020-09-14T10:19:19.147759",
     "exception": false,
     "start_time": "2020-09-14T10:19:15.992598",
     "status": "completed"
    },
    "tags": []
   },
   "outputs": [
    {
     "data": {
      "application/javascript": [
       "parent.postMessage({\"jupyterEvent\": \"custom.exercise_interaction\", \"data\": {\"outcomeType\": 1, \"valueTowardsCompletion\": 0.16666666666666666, \"interactionType\": 1, \"questionType\": 2, \"questionId\": \"5_EvaluateFunction\", \"learnToolsVersion\": \"0.3.4\", \"failureMessage\": \"\", \"exceptionClass\": \"\", \"trace\": \"\"}}, \"*\")"
      ],
      "text/plain": [
       "<IPython.core.display.Javascript object>"
      ]
     },
     "metadata": {},
     "output_type": "display_data"
    },
    {
     "data": {
      "text/markdown": [
       "<span style=\"color:#33cc33\">Correct</span>"
      ],
      "text/plain": [
       "Correct"
      ]
     },
     "metadata": {},
     "output_type": "display_data"
    }
   ],
   "source": [
    "def evaluate(model, texts, labels):\n",
    "    \"\"\" Returns the accuracy of a TextCategorizer model. \n",
    "    \n",
    "        Arguments\n",
    "        ---------\n",
    "        model: ScaPy model with a TextCategorizer\n",
    "        texts: Text samples, from load_data function\n",
    "        labels: True labels, from load_data function\n",
    "    \n",
    "    \"\"\"\n",
    "    # Get predictions from textcat model (using your predict method)\n",
    "    predicted_class = predict(model, texts)\n",
    "    \n",
    "    # From labels, get the true class as a list of integers (POSITIVE -> 1, NEGATIVE -> 0)\n",
    "    true_class = [int(each['cats']['POSITIVE']) for each in labels]\n",
    "    \n",
    "    # A boolean or int array indicating correct predictions\n",
    "    correct_predictions = predicted_class == true_class\n",
    "    \n",
    "    # The accuracy, number of correct predictions divided by all predictions\n",
    "    accuracy = sum(correct_predictions)/len(correct_predictions)\n",
    "    \n",
    "    return accuracy\n",
    "\n",
    "step_5.check()"
   ]
  },
  {
   "cell_type": "code",
   "execution_count": 15,
   "metadata": {
    "execution": {
     "iopub.execute_input": "2020-09-14T10:19:19.217749Z",
     "iopub.status.busy": "2020-09-14T10:19:19.216719Z",
     "iopub.status.idle": "2020-09-14T10:19:19.219247Z",
     "shell.execute_reply": "2020-09-14T10:19:19.219750Z"
    },
    "papermill": {
     "duration": 0.037944,
     "end_time": "2020-09-14T10:19:19.219901",
     "exception": false,
     "start_time": "2020-09-14T10:19:19.181957",
     "status": "completed"
    },
    "tags": []
   },
   "outputs": [],
   "source": [
    "# Lines below will give you a hint or solution code\n",
    "#step_5.hint()\n",
    "#step_5.solution()"
   ]
  },
  {
   "cell_type": "code",
   "execution_count": 16,
   "metadata": {
    "execution": {
     "iopub.execute_input": "2020-09-14T10:19:19.288020Z",
     "iopub.status.busy": "2020-09-14T10:19:19.286961Z",
     "iopub.status.idle": "2020-09-14T10:19:23.204844Z",
     "shell.execute_reply": "2020-09-14T10:19:23.204184Z"
    },
    "papermill": {
     "duration": 3.953351,
     "end_time": "2020-09-14T10:19:23.204960",
     "exception": false,
     "start_time": "2020-09-14T10:19:19.251609",
     "status": "completed"
    },
    "tags": []
   },
   "outputs": [
    {
     "name": "stdout",
     "output_type": "stream",
     "text": [
      "Accuracy: 0.9488\n"
     ]
    }
   ],
   "source": [
    "accuracy = evaluate(nlp, val_texts, val_labels)\n",
    "print(f\"Accuracy: {accuracy:.4f}\")"
   ]
  },
  {
   "cell_type": "markdown",
   "metadata": {
    "papermill": {
     "duration": 0.030578,
     "end_time": "2020-09-14T10:19:23.266637",
     "exception": false,
     "start_time": "2020-09-14T10:19:23.236059",
     "status": "completed"
    },
    "tags": []
   },
   "source": [
    "With the functions implemented, you can train and evaluate in a loop."
   ]
  },
  {
   "cell_type": "code",
   "execution_count": 17,
   "metadata": {
    "execution": {
     "iopub.execute_input": "2020-09-14T10:19:23.347758Z",
     "iopub.status.busy": "2020-09-14T10:19:23.342345Z",
     "iopub.status.idle": "2020-09-14T10:30:23.673253Z",
     "shell.execute_reply": "2020-09-14T10:30:23.673898Z"
    },
    "papermill": {
     "duration": 660.376708,
     "end_time": "2020-09-14T10:30:23.674077",
     "exception": false,
     "start_time": "2020-09-14T10:19:23.297369",
     "status": "completed"
    },
    "tags": []
   },
   "outputs": [
    {
     "name": "stdout",
     "output_type": "stream",
     "text": [
      "Loss: 4.496 \t Accuracy: 0.945\n",
      "Loss: 3.106 \t Accuracy: 0.946\n",
      "Loss: 2.348 \t Accuracy: 0.945\n",
      "Loss: 1.926 \t Accuracy: 0.944\n",
      "Loss: 1.594 \t Accuracy: 0.945\n"
     ]
    }
   ],
   "source": [
    "# This may take a while to run!\n",
    "n_iters = 5\n",
    "for i in range(n_iters):\n",
    "    losses = train(nlp, train_data, optimizer)\n",
    "    accuracy = evaluate(nlp, val_texts, val_labels)\n",
    "    print(f\"Loss: {losses['textcat']:.3f} \\t Accuracy: {accuracy:.3f}\")"
   ]
  },
  {
   "cell_type": "markdown",
   "metadata": {
    "papermill": {
     "duration": 0.033001,
     "end_time": "2020-09-14T10:30:23.740105",
     "exception": false,
     "start_time": "2020-09-14T10:30:23.707104",
     "status": "completed"
    },
    "tags": []
   },
   "source": [
    "# Step 6: Keep Improving\n",
    "\n",
    "You've built the necessary components to train a text classifier with spaCy. What could you do further to optimize the model?\n",
    "\n",
    "Run the next line to check your answer."
   ]
  },
  {
   "cell_type": "code",
   "execution_count": 18,
   "metadata": {
    "execution": {
     "iopub.execute_input": "2020-09-14T10:30:23.812835Z",
     "iopub.status.busy": "2020-09-14T10:30:23.812132Z",
     "iopub.status.idle": "2020-09-14T10:30:23.817447Z",
     "shell.execute_reply": "2020-09-14T10:30:23.816931Z"
    },
    "papermill": {
     "duration": 0.043546,
     "end_time": "2020-09-14T10:30:23.817595",
     "exception": false,
     "start_time": "2020-09-14T10:30:23.774049",
     "status": "completed"
    },
    "tags": []
   },
   "outputs": [
    {
     "data": {
      "application/javascript": [
       "parent.postMessage({\"jupyterEvent\": \"custom.exercise_interaction\", \"data\": {\"interactionType\": 3, \"questionType\": 4, \"questionId\": \"6_ModelOptimizationQuestion\", \"learnToolsVersion\": \"0.3.4\", \"valueTowardsCompletion\": 0.0, \"failureMessage\": \"\", \"exceptionClass\": \"\", \"trace\": \"\", \"outcomeType\": 4}}, \"*\")"
      ],
      "text/plain": [
       "<IPython.core.display.Javascript object>"
      ]
     },
     "metadata": {},
     "output_type": "display_data"
    },
    {
     "data": {
      "text/markdown": [
       "<span style=\"color:#33cc99\">Solution:</span> Answer: There are various hyperparameters to work with here. The biggest one is the TextCategorizer architecture. You used the simplest model which trains faster but likely has worse performance than the CNN and ensemble models. "
      ],
      "text/plain": [
       "Solution: Answer: There are various hyperparameters to work with here. The biggest one is the TextCategorizer architecture. You used the simplest model which trains faster but likely has worse performance than the CNN and ensemble models. "
      ]
     },
     "metadata": {},
     "output_type": "display_data"
    }
   ],
   "source": [
    "# Check your answer (Run this code cell to receive credit!)\n",
    "step_6.solution()"
   ]
  },
  {
   "cell_type": "markdown",
   "metadata": {
    "papermill": {
     "duration": 0.033908,
     "end_time": "2020-09-14T10:30:23.885924",
     "exception": false,
     "start_time": "2020-09-14T10:30:23.852016",
     "status": "completed"
    },
    "tags": []
   },
   "source": [
    "## Keep Going\n",
    "\n",
    "The next step is a big one. See how you can **[represent tokens as vectors that describe their meaning](https://www.kaggle.com/matleonard/word-vectors)**, and plug those into your machine learning models."
   ]
  },
  {
   "cell_type": "markdown",
   "metadata": {
    "papermill": {
     "duration": 0.033711,
     "end_time": "2020-09-14T10:30:23.953811",
     "exception": false,
     "start_time": "2020-09-14T10:30:23.920100",
     "status": "completed"
    },
    "tags": []
   },
   "source": [
    "---\n",
    "**[Natural Language Processing Home Page](https://www.kaggle.com/learn/natural-language-processing)**\n",
    "\n",
    "\n",
    "\n",
    "\n",
    "\n",
    "*Have questions or comments? Visit the [Learn Discussion forum](https://www.kaggle.com/learn-forum/161466) to chat with other Learners.*"
   ]
  }
 ],
 "metadata": {
  "kernelspec": {
   "display_name": "Python 3",
   "language": "python",
   "name": "python3"
  },
  "language_info": {
   "codemirror_mode": {
    "name": "ipython",
    "version": 3
   },
   "file_extension": ".py",
   "mimetype": "text/x-python",
   "name": "python",
   "nbconvert_exporter": "python",
   "pygments_lexer": "ipython3",
   "version": "3.7.6"
  },
  "papermill": {
   "duration": 810.820272,
   "end_time": "2020-09-14T10:30:24.097314",
   "environment_variables": {},
   "exception": null,
   "input_path": "__notebook__.ipynb",
   "output_path": "__notebook__.ipynb",
   "parameters": {},
   "start_time": "2020-09-14T10:16:53.277042",
   "version": "2.1.0"
  }
 },
 "nbformat": 4,
 "nbformat_minor": 4
}
