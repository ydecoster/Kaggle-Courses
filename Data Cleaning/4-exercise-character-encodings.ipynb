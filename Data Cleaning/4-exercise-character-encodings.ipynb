{
 "cells": [
  {
   "cell_type": "markdown",
   "execution_count": null,
   "metadata": {
    "papermill": {
     "duration": 0.007675,
     "end_time": "2020-09-03T16:36:14.273091",
     "exception": false,
     "start_time": "2020-09-03T16:36:14.265416",
     "status": "completed"
    },
    "tags": []
   },
   "source": [
    "**[Data Cleaning Home Page](https://www.kaggle.com/learn/data-cleaning)**\n",
    "\n",
    "---\n"
   ]
  },
  {
   "cell_type": "markdown",
   "execution_count": null,
   "metadata": {
    "papermill": {
     "duration": 0.006029,
     "end_time": "2020-09-03T16:36:14.285440",
     "exception": false,
     "start_time": "2020-09-03T16:36:14.279411",
     "status": "completed"
    },
    "tags": []
   },
   "source": [
    "In this exercise, you'll apply what you learned in the **Character encodings** tutorial.\n",
    "\n",
    "# Setup\n",
    "\n",
    "The questions below will give you feedback on your work. Run the following cell to set up the feedback system."
   ]
  },
  {
   "cell_type": "code",
   "execution_count": 1,
   "metadata": {
    "execution": {
     "iopub.execute_input": "2020-09-03T16:36:14.304117Z",
     "iopub.status.busy": "2020-09-03T16:36:14.303319Z",
     "iopub.status.idle": "2020-09-03T16:36:14.390602Z",
     "shell.execute_reply": "2020-09-03T16:36:14.389976Z"
    },
    "papermill": {
     "duration": 0.099226,
     "end_time": "2020-09-03T16:36:14.390737",
     "exception": false,
     "start_time": "2020-09-03T16:36:14.291511",
     "status": "completed"
    },
    "tags": []
   },
   "outputs": [
    {
     "name": "stdout",
     "output_type": "stream",
     "text": [
      "Setup Complete\n"
     ]
    }
   ],
   "source": [
    "from learntools.core import binder\n",
    "binder.bind(globals())\n",
    "from learntools.data_cleaning.ex4 import *\n",
    "print(\"Setup Complete\")"
   ]
  },
  {
   "cell_type": "markdown",
   "execution_count": null,
   "metadata": {
    "papermill": {
     "duration": 0.005894,
     "end_time": "2020-09-03T16:36:14.404808",
     "exception": false,
     "start_time": "2020-09-03T16:36:14.398914",
     "status": "completed"
    },
    "tags": []
   },
   "source": [
    "# Get our environment set up\n",
    "\n",
    "The first thing we'll need to do is load in the libraries we'll be using."
   ]
  },
  {
   "cell_type": "code",
   "execution_count": 2,
   "metadata": {
    "execution": {
     "iopub.execute_input": "2020-09-03T16:36:14.423647Z",
     "iopub.status.busy": "2020-09-03T16:36:14.422721Z",
     "iopub.status.idle": "2020-09-03T16:36:14.425976Z",
     "shell.execute_reply": "2020-09-03T16:36:14.425265Z"
    },
    "papermill": {
     "duration": 0.015065,
     "end_time": "2020-09-03T16:36:14.426092",
     "exception": false,
     "start_time": "2020-09-03T16:36:14.411027",
     "status": "completed"
    },
    "tags": []
   },
   "outputs": [],
   "source": [
    "# modules we'll use\n",
    "import pandas as pd\n",
    "import numpy as np\n",
    "\n",
    "# helpful character encoding module\n",
    "import chardet\n",
    "\n",
    "# set seed for reproducibility\n",
    "np.random.seed(0)"
   ]
  },
  {
   "cell_type": "markdown",
   "execution_count": null,
   "metadata": {
    "papermill": {
     "duration": 0.006082,
     "end_time": "2020-09-03T16:36:14.438840",
     "exception": false,
     "start_time": "2020-09-03T16:36:14.432758",
     "status": "completed"
    },
    "tags": []
   },
   "source": [
    "# 1) What are encodings?\n",
    "\n",
    "You're working with a dataset composed of bytes.  Run the code cell below to print a sample entry."
   ]
  },
  {
   "cell_type": "code",
   "execution_count": 3,
   "metadata": {
    "execution": {
     "iopub.execute_input": "2020-09-03T16:36:14.457443Z",
     "iopub.status.busy": "2020-09-03T16:36:14.456536Z",
     "iopub.status.idle": "2020-09-03T16:36:14.460823Z",
     "shell.execute_reply": "2020-09-03T16:36:14.460052Z"
    },
    "papermill": {
     "duration": 0.015941,
     "end_time": "2020-09-03T16:36:14.461005",
     "exception": false,
     "start_time": "2020-09-03T16:36:14.445064",
     "status": "completed"
    },
    "tags": []
   },
   "outputs": [
    {
     "name": "stdout",
     "output_type": "stream",
     "text": [
      "b'\\xa7A\\xa6n'\n",
      "data type: <class 'bytes'>\n"
     ]
    }
   ],
   "source": [
    "sample_entry = b'\\xa7A\\xa6n'\n",
    "print(sample_entry)\n",
    "print('data type:', type(sample_entry))"
   ]
  },
  {
   "cell_type": "markdown",
   "execution_count": null,
   "metadata": {
    "papermill": {
     "duration": 0.006133,
     "end_time": "2020-09-03T16:36:14.473872",
     "exception": false,
     "start_time": "2020-09-03T16:36:14.467739",
     "status": "completed"
    },
    "tags": []
   },
   "source": [
    "You notice that it doesn't use the standard UTF-8 encoding. \n",
    "\n",
    "Use the next code cell to create a variable `new_entry` that changes the encoding from `\"big5-tw\"` to `\"utf-8\"`.  `new_entry` should have the bytes datatype."
   ]
  },
  {
   "cell_type": "code",
   "execution_count": 4,
   "metadata": {
    "execution": {
     "iopub.execute_input": "2020-09-03T16:36:14.495588Z",
     "iopub.status.busy": "2020-09-03T16:36:14.494520Z",
     "iopub.status.idle": "2020-09-03T16:36:14.500658Z",
     "shell.execute_reply": "2020-09-03T16:36:14.501289Z"
    },
    "papermill": {
     "duration": 0.021071,
     "end_time": "2020-09-03T16:36:14.501444",
     "exception": false,
     "start_time": "2020-09-03T16:36:14.480373",
     "status": "completed"
    },
    "tags": []
   },
   "outputs": [
    {
     "data": {
      "application/javascript": [
       "parent.postMessage({\"jupyterEvent\": \"custom.exercise_interaction\", \"data\": {\"outcomeType\": 1, \"valueTowardsCompletion\": 0.3333333333333333, \"interactionType\": 1, \"questionType\": 1, \"questionId\": \"1_EncodingsIntro\", \"learnToolsVersion\": \"0.3.4\", \"failureMessage\": \"\", \"exceptionClass\": \"\", \"trace\": \"\"}}, \"*\")"
      ],
      "text/plain": [
       "<IPython.core.display.Javascript object>"
      ]
     },
     "metadata": {},
     "output_type": "display_data"
    },
    {
     "data": {
      "text/markdown": [
       "<span style=\"color:#33cc33\">Correct</span>"
      ],
      "text/plain": [
       "Correct"
      ]
     },
     "metadata": {},
     "output_type": "display_data"
    }
   ],
   "source": [
    "new_entry = (sample_entry.decode(\"big5-tw\")).encode(\"utf-8\")\n",
    "\n",
    "# Check your answer\n",
    "q1.check()"
   ]
  },
  {
   "cell_type": "code",
   "execution_count": 5,
   "metadata": {
    "execution": {
     "iopub.execute_input": "2020-09-03T16:36:14.520830Z",
     "iopub.status.busy": "2020-09-03T16:36:14.519778Z",
     "iopub.status.idle": "2020-09-03T16:36:14.523334Z",
     "shell.execute_reply": "2020-09-03T16:36:14.522601Z"
    },
    "papermill": {
     "duration": 0.01498,
     "end_time": "2020-09-03T16:36:14.523455",
     "exception": false,
     "start_time": "2020-09-03T16:36:14.508475",
     "status": "completed"
    },
    "tags": []
   },
   "outputs": [],
   "source": [
    "# Lines below will give you a hint or solution code\n",
    "#q1.hint()\n",
    "#q1.solution()"
   ]
  },
  {
   "cell_type": "markdown",
   "execution_count": null,
   "metadata": {
    "papermill": {
     "duration": 0.006669,
     "end_time": "2020-09-03T16:36:14.537359",
     "exception": false,
     "start_time": "2020-09-03T16:36:14.530690",
     "status": "completed"
    },
    "tags": []
   },
   "source": [
    "# 2) Reading in files with encoding problems\n",
    "\n",
    "Use the code cell below to read in this file at path `\"../input/fatal-police-shootings-in-the-us/PoliceKillingsUS.csv\"`.  \n",
    "\n",
    "Figure out what the correct encoding should be and read in the file to a DataFrame `police_killings`."
   ]
  },
  {
   "cell_type": "code",
   "execution_count": 6,
   "metadata": {
    "execution": {
     "iopub.execute_input": "2020-09-03T16:36:14.556743Z",
     "iopub.status.busy": "2020-09-03T16:36:14.556013Z",
     "iopub.status.idle": "2020-09-03T16:36:14.581303Z",
     "shell.execute_reply": "2020-09-03T16:36:14.580530Z"
    },
    "papermill": {
     "duration": 0.037251,
     "end_time": "2020-09-03T16:36:14.581438",
     "exception": false,
     "start_time": "2020-09-03T16:36:14.544187",
     "status": "completed"
    },
    "tags": []
   },
   "outputs": [
    {
     "data": {
      "application/javascript": [
       "parent.postMessage({\"jupyterEvent\": \"custom.exercise_interaction\", \"data\": {\"outcomeType\": 1, \"valueTowardsCompletion\": 0.3333333333333333, \"interactionType\": 1, \"questionType\": 1, \"questionId\": \"2_ReadIn\", \"learnToolsVersion\": \"0.3.4\", \"failureMessage\": \"\", \"exceptionClass\": \"\", \"trace\": \"\"}}, \"*\")"
      ],
      "text/plain": [
       "<IPython.core.display.Javascript object>"
      ]
     },
     "metadata": {},
     "output_type": "display_data"
    },
    {
     "data": {
      "text/markdown": [
       "<span style=\"color:#33cc33\">Correct</span>"
      ],
      "text/plain": [
       "Correct"
      ]
     },
     "metadata": {},
     "output_type": "display_data"
    }
   ],
   "source": [
    "# TODO: Load in the DataFrame correctly.\n",
    "police_killings = pd.read_csv(\"../input/fatal-police-shootings-in-the-us/PoliceKillingsUS.csv\", encoding='Windows-1252')\n",
    "\n",
    "# Check your answer\n",
    "q2.check()"
   ]
  },
  {
   "cell_type": "markdown",
   "execution_count": null,
   "metadata": {
    "papermill": {
     "duration": 0.006933,
     "end_time": "2020-09-03T16:36:14.595746",
     "exception": false,
     "start_time": "2020-09-03T16:36:14.588813",
     "status": "completed"
    },
    "tags": []
   },
   "source": [
    "Feel free to use any additional code cells for supplemental work.  To get credit for finishing this question, you'll need to run `q2.check()` and get a result of **Correct**."
   ]
  },
  {
   "cell_type": "code",
   "execution_count": 7,
   "metadata": {
    "execution": {
     "iopub.execute_input": "2020-09-03T16:36:14.616321Z",
     "iopub.status.busy": "2020-09-03T16:36:14.615572Z",
     "iopub.status.idle": "2020-09-03T16:36:15.507793Z",
     "shell.execute_reply": "2020-09-03T16:36:15.507039Z"
    },
    "papermill": {
     "duration": 0.904781,
     "end_time": "2020-09-03T16:36:15.507916",
     "exception": false,
     "start_time": "2020-09-03T16:36:14.603135",
     "status": "completed"
    },
    "tags": []
   },
   "outputs": [
    {
     "name": "stdout",
     "output_type": "stream",
     "text": [
      "{'encoding': 'Windows-1252', 'confidence': 0.73, 'language': ''}\n"
     ]
    }
   ],
   "source": [
    "# (Optional) Use this code cell for any additional work.\n",
    "# look at the first ten thousand bytes to guess the character encoding\n",
    "with open(\"../input/fatal-police-shootings-in-the-us/PoliceKillingsUS.csv\", 'rb') as rawdata:\n",
    "    result = chardet.detect(rawdata.read(26000))\n",
    "\n",
    "# check what the character encoding might be\n",
    "print(result)"
   ]
  },
  {
   "cell_type": "code",
   "execution_count": 8,
   "metadata": {
    "execution": {
     "iopub.execute_input": "2020-09-03T16:36:15.528268Z",
     "iopub.status.busy": "2020-09-03T16:36:15.527315Z",
     "iopub.status.idle": "2020-09-03T16:36:15.530541Z",
     "shell.execute_reply": "2020-09-03T16:36:15.529781Z"
    },
    "papermill": {
     "duration": 0.015258,
     "end_time": "2020-09-03T16:36:15.530664",
     "exception": false,
     "start_time": "2020-09-03T16:36:15.515406",
     "status": "completed"
    },
    "tags": []
   },
   "outputs": [],
   "source": [
    "# Lines below will give you a hint or solution code\n",
    "#q2.hint()\n",
    "#q2.solution()"
   ]
  },
  {
   "cell_type": "markdown",
   "execution_count": null,
   "metadata": {
    "papermill": {
     "duration": 0.007137,
     "end_time": "2020-09-03T16:36:15.545657",
     "exception": false,
     "start_time": "2020-09-03T16:36:15.538520",
     "status": "completed"
    },
    "tags": []
   },
   "source": [
    "# 3) Saving your files with UTF-8 encoding\n",
    "\n",
    "Save a version of the police killings dataset to CSV with UTF-8 encoding.  Your answer will be marked correct after saving this file.  \n",
    "\n",
    "Note: When using the `to_csv()` method, supply only the name of the file (e.g., `\"my_file.csv\"`).  This saves the file at the filepath `\"/kaggle/working/my_file.csv\"`."
   ]
  },
  {
   "cell_type": "code",
   "execution_count": 9,
   "metadata": {
    "execution": {
     "iopub.execute_input": "2020-09-03T16:36:15.565888Z",
     "iopub.status.busy": "2020-09-03T16:36:15.565172Z",
     "iopub.status.idle": "2020-09-03T16:36:15.958387Z",
     "shell.execute_reply": "2020-09-03T16:36:15.957726Z"
    },
    "papermill": {
     "duration": 0.405394,
     "end_time": "2020-09-03T16:36:15.958519",
     "exception": false,
     "start_time": "2020-09-03T16:36:15.553125",
     "status": "completed"
    },
    "tags": []
   },
   "outputs": [
    {
     "data": {
      "application/javascript": [
       "parent.postMessage({\"jupyterEvent\": \"custom.exercise_interaction\", \"data\": {\"outcomeType\": 1, \"valueTowardsCompletion\": 0.3333333333333333, \"interactionType\": 1, \"questionType\": 2, \"questionId\": \"3_SaveCSV\", \"learnToolsVersion\": \"0.3.4\", \"failureMessage\": \"\", \"exceptionClass\": \"\", \"trace\": \"\"}}, \"*\")"
      ],
      "text/plain": [
       "<IPython.core.display.Javascript object>"
      ]
     },
     "metadata": {},
     "output_type": "display_data"
    },
    {
     "data": {
      "text/markdown": [
       "<span style=\"color:#33cc33\">Correct</span>"
      ],
      "text/plain": [
       "Correct"
      ]
     },
     "metadata": {},
     "output_type": "display_data"
    }
   ],
   "source": [
    "# TODO: Save the police killings dataset to CSV\n",
    "police_killings.to_csv(\"my_file.csv\")\n",
    "\n",
    "# Check your answer\n",
    "q3.check()"
   ]
  },
  {
   "cell_type": "code",
   "execution_count": 10,
   "metadata": {
    "execution": {
     "iopub.execute_input": "2020-09-03T16:36:15.979573Z",
     "iopub.status.busy": "2020-09-03T16:36:15.978742Z",
     "iopub.status.idle": "2020-09-03T16:36:15.982075Z",
     "shell.execute_reply": "2020-09-03T16:36:15.981490Z"
    },
    "papermill": {
     "duration": 0.015835,
     "end_time": "2020-09-03T16:36:15.982199",
     "exception": false,
     "start_time": "2020-09-03T16:36:15.966364",
     "status": "completed"
    },
    "tags": []
   },
   "outputs": [],
   "source": [
    "# Lines below will give you a hint or solution code\n",
    "#q3.hint()\n",
    "#q3.solution()"
   ]
  },
  {
   "cell_type": "markdown",
   "execution_count": null,
   "metadata": {
    "papermill": {
     "duration": 0.011133,
     "end_time": "2020-09-03T16:36:16.002173",
     "exception": false,
     "start_time": "2020-09-03T16:36:15.991040",
     "status": "completed"
    },
    "tags": []
   },
   "source": [
    "# (Optional) More practice\n",
    "\n",
    "Check out [this dataset of files in different character encodings](https://www.kaggle.com/rtatman/character-encoding-examples). Can you read in all the files with their original encodings and them save them out as UTF-8 files?\n",
    "\n",
    "If you have a file that's in UTF-8 but has just a couple of weird-looking characters in it, you can try out the [ftfy module](https://ftfy.readthedocs.io/en/latest/#) and see if it helps. \n",
    "\n",
    "# Keep going\n",
    "\n",
    "In the final lesson, learn how to [**clean up inconsistent text entries**](https://www.kaggle.com/alexisbcook/inconsistent-data-entry) in your dataset."
   ]
  },
  {
   "cell_type": "markdown",
   "execution_count": null,
   "metadata": {
    "papermill": {
     "duration": 0.007753,
     "end_time": "2020-09-03T16:36:16.019656",
     "exception": false,
     "start_time": "2020-09-03T16:36:16.011903",
     "status": "completed"
    },
    "tags": []
   },
   "source": [
    "---\n",
    "**[Data Cleaning Home Page](https://www.kaggle.com/learn/data-cleaning)**\n",
    "\n",
    "\n",
    "\n",
    "\n",
    "\n",
    "*Have questions or comments? Visit the [Learn Discussion forum](https://www.kaggle.com/learn-forum/172650) to chat with other Learners.*"
   ]
  }
 ],
 "metadata": {
  "kernelspec": {
   "display_name": "Python 3",
   "language": "python",
   "name": "python3"
  },
  "language_info": {
   "codemirror_mode": {
    "name": "ipython",
    "version": 3
   },
   "file_extension": ".py",
   "mimetype": "text/x-python",
   "name": "python",
   "nbconvert_exporter": "python",
   "pygments_lexer": "ipython3",
   "version": "3.7.6"
  },
  "papermill": {
   "duration": 6.472041,
   "end_time": "2020-09-03T16:36:16.136031",
   "environment_variables": {},
   "exception": null,
   "input_path": "__notebook__.ipynb",
   "output_path": "__notebook__.ipynb",
   "parameters": {},
   "start_time": "2020-09-03T16:36:09.663990",
   "version": "2.1.0"
  }
 },
 "nbformat": 4,
 "nbformat_minor": 4
}
