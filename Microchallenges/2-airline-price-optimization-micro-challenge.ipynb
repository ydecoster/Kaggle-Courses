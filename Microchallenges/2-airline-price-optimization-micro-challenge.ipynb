{
 "cells": [
  {
   "cell_type": "markdown",
   "metadata": {},
   "source": [
    "**[Microchallenges Home Page](https://www.kaggle.com/learn/microchallenges)**\n",
    "\n",
    "---\n"
   ]
  },
  {
   "cell_type": "markdown",
   "metadata": {
    "_uuid": "952c0d8ef6614dadd0aa9c8306c48d55b4ce85f6"
   },
   "source": [
    "# Intro\n",
    "\n",
    "Data scientists tend to focus on **prediction** because that's where conventional machine learning excels. But real world decision-making involves both prediction and **optimization**.  After predicting what will happen, you decide what to do about it.\n",
    "\n",
    "Optimization gets less attention than it deserves. So this micro-challenge will test your optimization skills as you write a function to improve how airlines set prices.\n",
    "\n",
    "![Imgur](https://i.imgur.com/AKrbLMR.jpg)\n",
    "\n",
    "\n",
    "# The Problem\n",
    "\n",
    "You recently started Aviato.com, a startup that helps airlines set ticket prices. \n",
    "\n",
    "Aviato's success will depend on a function called `pricing_function`.  This notebook already includes a very simple version of `pricing_function`.  You will modify `pricing_function` to maximize the total revenue collected for all flights in our simulated environment.\n",
    "\n",
    "For each flight, `pricing_function` will be run once per (simulated) day to set that day's ticket price. The seats you don't sell today will be available to sell tomorrow, unless the flight leaves that day.\n",
    "\n",
    "Your `pricing_function` is run for one flight at a time, and it takes following inputs:\n",
    "- **Number of days until the flight**\n",
    "- **Number of seats they have left to sell**\n",
    "- **A variable called `demand_level` that determines how many tickets you can sell at any given price. **\n",
    "\n",
    "The quantity you sell at any price is:\n",
    "> quantity_sold = demand_level - price\n",
    "\n",
    "Ticket quantities are capped at the number of seats available.\n",
    "\n",
    "Your function will output the ticket price.\n",
    "\n",
    "You learn the `demand_level` for each day at the time you need to make predictions for that day. For all days in the future, you only know `demand_level` will be drawn from the uniform distribution between 100 and 200.  So, for any day in the future, it is equally likely to be each value between 100 and 200.\n",
    "\n",
    "In case this is still unclear, some relevant implementation code is shown below.\n",
    "\n",
    "# The Simulator\n",
    "We will run your pricing function in a simulator to test how well it performs on a range of flight situations.  **Run the following code cell to set up your simulation environment:**"
   ]
  },
  {
   "cell_type": "code",
   "execution_count": 1,
   "metadata": {
    "_uuid": "29b901e17dc046f84d6502c06b6933c8ae4b6f60"
   },
   "outputs": [],
   "source": [
    "import sys\n",
    "sys.path.append('../input')\n",
    "from flight_revenue_simulator import simulate_revenue, score_me\n"
   ]
  },
  {
   "cell_type": "markdown",
   "metadata": {
    "_uuid": "a7b28253c46d09898ccc8908de34f38015e99bf4"
   },
   "source": [
    "In case you want to check your understanding of the simulator logic, here is a simplified version of some of the key logic (leaving out the code that prints your progress). If you feel you understand the description above, you can skip reading this code.\n",
    "\n",
    "```\n",
    "def _tickets_sold(p, demand_level, max_qty):\n",
    "        quantity_demanded = floor(max(0, p - demand_level))\n",
    "        return min(quantity_demanded, max_qty)\n",
    "\n",
    "def simulate_revenue(days_left, tickets_left, pricing_function, rev_to_date=0, demand_level_min=100, demand_level_max=200):\n",
    "    if (days_left == 0) or (tickets_left == 0):\n",
    "        return rev_to_date\n",
    "    else:\n",
    "        demand_level = uniform(demand_level_min, demand_level_max)\n",
    "        p = pricing_function(days_left, tickets_left, demand_level)\n",
    "        q = _tickets_sold(demand_level, p, tickets_left)\n",
    "        return _total_revenue(days_left = days_left-1, \n",
    "                              tickets_left = tickets_left-q, \n",
    "                              pricing_function = pricing_function, \n",
    "                              rev_to_date = rev_to_date + p * q,\n",
    "                              demand_level_min = demand_level_min,\n",
    "                              demand_level_max = demand_level_max\n",
    "                             )\n",
    "```\n",
    "\n",
    "# Your Code\n",
    "\n",
    "Here is starter code for the pricing function.  If you use this function, you will sell 10 tickets each day (until you run out of tickets)."
   ]
  },
  {
   "cell_type": "code",
   "execution_count": 2,
   "metadata": {
    "_cell_guid": "79c7e3d0-c299-4dcb-8224-4455121ee9b0",
    "_uuid": "d629ff2d2480ee46fbb7e2d37f6b5fab8052498a"
   },
   "outputs": [],
   "source": [
    "#Initial function -> Average revenue across all flights is $6073\n",
    "def pricing_function(days_left, tickets_left, demand_level):\n",
    "    \"\"\"Sample pricing function\"\"\"\n",
    "    price = demand_level - 10\n",
    "    return price\n",
    "\n",
    "#1st trial -> Average revenue across all flights is $6678\n",
    "def pricing_function(days_left, tickets_left, demand_level):\n",
    "    \"\"\"Sample pricing function\"\"\"\n",
    "    if days_left>10:\n",
    "        return 190\n",
    "    price = demand_level - tickets_left/days_left\n",
    "    return price\n",
    "\n",
    "#2nd trial -> Average revenue across all flights is $7199\n",
    "def pricing_function(days_left, tickets_left, demand_level):\n",
    "    \"\"\"Sample pricing function\"\"\"\n",
    "    if days_left>10:\n",
    "        return 183\n",
    "    price = demand_level - tickets_left/days_left\n",
    "    return price\n",
    "\n",
    "#3rd trial: a more sofisticated function -> Average revenue across all flights is $7483\n",
    "import numpy as np\n",
    "\n",
    "#Creating two matrix Q & V that will store optimum number of tickets to sell for all situations\n",
    "n_demand_levels = 11\n",
    "min_demand_level = 100\n",
    "max_demand_level = 200\n",
    "demand_levels = np.linspace(min_demand_level, max_demand_level, n_demand_levels)\n",
    "\n",
    "max_tickets = 200\n",
    "max_days = 150\n",
    "\n",
    "# Q indices are: n_sold in day, tickets_left to start day, demand_level, days_left\n",
    "Q = np.zeros([max_tickets, max_tickets, n_demand_levels, max_days])\n",
    "# V indices are: n_left and n_days\n",
    "V = np.zeros([max_tickets, max_days])\n",
    "\n",
    "#Let's fill the matrix Q and V\n",
    "for days_left in range(1, max_days):\n",
    "    for tickets_left in range(max_tickets):\n",
    "        for tickets_sold in range(tickets_left):\n",
    "            for demand_index, demand_level in enumerate(demand_levels):\n",
    "                #Setting the price and not negative\n",
    "                price = max(demand_level - tickets_sold, 0)\n",
    "                current_revenu = price * tickets_sold\n",
    "                Q[tickets_sold, tickets_left, demand_index, days_left] = current_revenu + V[tickets_left-tickets_sold, days_left-1]\n",
    "        expected_total_rev_from_best_quantity_at_each_demand_level = Q[:, tickets_left, :, days_left].max(axis=0)\n",
    "        V[tickets_left, days_left] = expected_total_rev_from_best_quantity_at_each_demand_level.mean()         \n",
    "        \n",
    "#It's time to define the function using our matrixes Q and V\n",
    "def pricing_function(days_left, tickets_left, demand_level):\n",
    "    if days_left == 1:\n",
    "        return max(demand_level - tickets_left, demand_level/2)\n",
    "    demand_level_index = np.abs(demand_level - demand_levels).argmin()\n",
    "    day_index = days_left - 1 # arrays are 0 indexed\n",
    "    tickets_index = int(tickets_left)  # in case it comes in as float, but need to index with it\n",
    "    relevant_Q_vals = Q[:, tickets_index, demand_level_index, day_index]\n",
    "    desired_quantity = relevant_Q_vals.argmax()# offset 0 indexing\n",
    "    price = demand_level - desired_quantity\n",
    "    return price"
   ]
  },
  {
   "cell_type": "markdown",
   "metadata": {
    "_uuid": "8dfa22a10e6153f9beab25168b1a1b8acfe4960d"
   },
   "source": [
    "To see a small example of how your code works, test it with the following function:"
   ]
  },
  {
   "cell_type": "code",
   "execution_count": 3,
   "metadata": {
    "_uuid": "0faafdf897ee48bfd5e2f3f540c51877101dbcec"
   },
   "outputs": [
    {
     "name": "stdout",
     "output_type": "stream",
     "text": [
      "7 days before flight: Started with 50 seats. Demand level: 137. Price set to $135. Sold 2 tickets. Daily revenue is 271. Total revenue-to-date is 271. 48 seats remaining\n",
      "6 days before flight: Started with 48 seats. Demand level: 148. Price set to $140. Sold 8 tickets. Daily revenue is 1122. Total revenue-to-date is 1393. 40 seats remaining\n",
      "5 days before flight: Started with 40 seats. Demand level: 159. Price set to $147. Sold 12 tickets. Daily revenue is 1765. Total revenue-to-date is 3158. 28 seats remaining\n",
      "4 days before flight: Started with 28 seats. Demand level: 174. Price set to $160. Sold 14 tickets. Daily revenue is 2241. Total revenue-to-date is 5399. 14 seats remaining\n",
      "3 days before flight: Started with 14 seats. Demand level: 114. Price set to $114. Sold 0 tickets. Daily revenue is 0. Total revenue-to-date is 5399. 14 seats remaining\n",
      "2 days before flight: Started with 14 seats. Demand level: 142. Price set to $129. Sold 13 tickets. Daily revenue is 1681. Total revenue-to-date is 7079. 1 seats remaining\n",
      "1 days before flight: Started with 1 seats. Demand level: 165. Price set to $164. Sold 1 tickets. Daily revenue is 164. Total revenue-to-date is 7243. 0 seats remaining\n",
      "The flight took off today. \n",
      "This flight is booked full.\n",
      "Total Revenue: $7243\n"
     ]
    },
    {
     "data": {
      "text/plain": [
       "7243.146715065566"
      ]
     },
     "execution_count": 3,
     "metadata": {},
     "output_type": "execute_result"
    }
   ],
   "source": [
    "simulate_revenue(days_left=7, tickets_left=50, pricing_function=pricing_function, verbose=True)"
   ]
  },
  {
   "cell_type": "markdown",
   "metadata": {
    "_uuid": "6cb61f41a2df125249a378413693b16ed145322a"
   },
   "source": [
    "You can try simulations for a variety of values.\n",
    "\n",
    "Once you feel good about your pricing function, run it with the following cell to to see how it performs on a wider range of flights."
   ]
  },
  {
   "cell_type": "code",
   "execution_count": 4,
   "metadata": {
    "_uuid": "13850c7c9a8f46098ddc4cca9c326abd378dd257"
   },
   "outputs": [
    {
     "name": "stdout",
     "output_type": "stream",
     "text": [
      "Ran 200 flights starting 100 days before flight with 100 tickets. Average revenue: $18406\n",
      "Ran 200 flights starting 14 days before flight with 50 tickets. Average revenue: $8451\n",
      "Ran 200 flights starting 2 days before flight with 20 tickets. Average revenue: $2643\n",
      "Ran 200 flights starting 1 days before flight with 3 tickets. Average revenue: $431\n"
     ]
    },
    {
     "data": {
      "application/javascript": [
       "parent.postMessage({\"jupyterEvent\": \"custom.exercise_interaction\", \"data\": {\"learnTutorialId\": 117, \"interactionType\": \"check\", \"questionId\": \"Aug31OptimizationChallenge\", \"outcomeType\": \"Pass\", \"valueTowardsCompletion\": 0.7482681003704658, \"failureMessage\": null, \"learnToolsVersion\": \"Testing\"}}, \"*\")"
      ],
      "text/plain": [
       "<IPython.core.display.Javascript object>"
      ]
     },
     "metadata": {},
     "output_type": "display_data"
    },
    {
     "name": "stdout",
     "output_type": "stream",
     "text": [
      "Average revenue across all flights is $7483\n"
     ]
    }
   ],
   "source": [
    "score_me(pricing_function)"
   ]
  },
  {
   "cell_type": "markdown",
   "metadata": {
    "_uuid": "afed31fbc63a8b9e40958e92cf2cf7742b1d25f4"
   },
   "source": [
    "---\n",
    "**[Microchallenges Home Page](https://www.kaggle.com/learn/microchallenges)**\n",
    "\n",
    "\n",
    "*Want to discuss your solution or hear what others have done?  Visit the [Learn Discussion forum](https://www.kaggle.com/general/62469) to chat with other Learners.*"
   ]
  }
 ],
 "metadata": {
  "kernelspec": {
   "display_name": "Python 3",
   "language": "python",
   "name": "python3"
  },
  "language_info": {
   "codemirror_mode": {
    "name": "ipython",
    "version": 3
   },
   "file_extension": ".py",
   "mimetype": "text/x-python",
   "name": "python",
   "nbconvert_exporter": "python",
   "pygments_lexer": "ipython3",
   "version": "3.6.4"
  }
 },
 "nbformat": 4,
 "nbformat_minor": 4
}
