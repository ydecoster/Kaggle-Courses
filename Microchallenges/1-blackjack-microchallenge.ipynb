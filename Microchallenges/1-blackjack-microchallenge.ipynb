{
 "cells": [
  {
   "cell_type": "markdown",
   "metadata": {},
   "source": [
    "**[Microchallenges Home Page](https://www.kaggle.com/learn/microchallenges)**\n",
    "\n",
    "---\n"
   ]
  },
  {
   "cell_type": "markdown",
   "metadata": {
    "_uuid": "c458c47dfa32f5d11deeed3666c6f69a153f3a21"
   },
   "source": [
    "# Intro\n",
    "\n",
    "Ready for a quick test of your logic and programming skills?\n",
    "\n",
    "In today's micro-challenge, you will write the logic for a blackjack playing program.  Our dealer will test your program by playing 50,000 hands of blackjack. You'll see how frequently your program won, and you can discuss how your approach stacks up against others in the challenge.\n",
    "\n",
    "![Blackjack](http://www.hightechgambling.com/sites/default/files/styles/large/public/casino/table_games/blackjack.jpg)"
   ]
  },
  {
   "cell_type": "markdown",
   "metadata": {
    "_cell_guid": "79c7e3d0-c299-4dcb-8224-4455121ee9b0",
    "_uuid": "d629ff2d2480ee46fbb7e2d37f6b5fab8052498a",
    "collapsed": true
   },
   "source": [
    "# Blackjack Rules\n",
    "\n",
    "We'll use a slightly simplified version of blackjack (aka twenty-one). In this version, there is one player (who you'll control) and a dealer. Play proceeds as follows:\n",
    "\n",
    "- The player is dealt two face-up cards. The dealer is dealt one face-up card.\n",
    "- The player may ask to be dealt another card ('hit') as many times as they wish. If the sum of their cards exceeds 21, they lose the round immediately.\n",
    "- The dealer then deals additional cards to himself until either:\n",
    "    - The sum of the dealer's cards exceeds 21, in which case the player wins the round, or\n",
    "    - The sum of the dealer's cards is greater than or equal to 17. If the player's total is greater than the dealer's, the player wins. Otherwise, the dealer wins (even in case of a tie).\n",
    "\n",
    "When calculating the sum of cards, Jack, Queen, and King count for 10. Aces can count as 1 or 11. (When referring to a player's \"total\" above, we mean the largest total that can be made without exceeding 21. So A+8 = 19, A+8+8 = 17.)\n",
    "\n",
    "# The Blackjack Player\n",
    "You'll write a function representing the player's decision-making strategy. Here is a simple (though unintelligent) example.\n",
    "\n",
    "**Run this code cell** so you can see simulation results below using the logic of never taking a new card."
   ]
  },
  {
   "cell_type": "code",
   "execution_count": 1,
   "metadata": {
    "_uuid": "e8c2c9a32840b7b7f26afd8a09152bca1f32eef5"
   },
   "outputs": [],
   "source": [
    "def should_hit(player_total, dealer_card_val, player_aces):\n",
    "    \"\"\"Return True if the player should hit (request another card) given the current game\n",
    "    state, or False if the player should stay. player_aces is the number of aces the player has.\n",
    "    \"\"\"\n",
    "    return False"
   ]
  },
  {
   "cell_type": "markdown",
   "metadata": {
    "_uuid": "8a46be7481de83b0f0f5d8c8a80f96708acfe673"
   },
   "source": [
    "We'll simulate games between your player agent and our own dealer agent by calling your function. So it must use the name `should_hit`."
   ]
  },
  {
   "cell_type": "markdown",
   "metadata": {
    "_uuid": "324b624d17b3a51263115128e5dd87e6be621198"
   },
   "source": [
    "# The Blackjack Simulator\n",
    "\n",
    "Run the cell below to set up our simulator environment:"
   ]
  },
  {
   "cell_type": "code",
   "execution_count": 2,
   "metadata": {
    "_uuid": "1ed70efd9e03b72c335511ffb39254cc4225b9cf"
   },
   "outputs": [
    {
     "data": {
      "application/javascript": [
       "parent.postMessage({\"jupyterEvent\": \"custom.exercise_interaction\", \"data\": {\"outcomeType\": 3, \"failureMessage\": \"Sorry, no auto-checking available for this question.\", \"exceptionClass\": \"Uncheckable\", \"trace\": \"\", \"interactionType\": 1, \"learnTutorialId\": 106, \"questionId\": \"7_BlackJackProblem\", \"learnToolsVersion\": \"0.2.5\", \"valueTowardsCompletion\": 0.0}}, \"*\")"
      ],
      "text/plain": [
       "<IPython.core.display.Javascript object>"
      ]
     },
     "metadata": {},
     "output_type": "display_data"
    },
    {
     "data": {
      "text/markdown": [
       "<span style=\"color:#cc5533\">Sorry, no auto-checking available for this question.</span>"
      ],
      "text/plain": [
       "Sorry, no auto-checking available for this question."
      ]
     },
     "metadata": {},
     "output_type": "display_data"
    },
    {
     "name": "stdout",
     "output_type": "stream",
     "text": [
      "Setup complete.\n"
     ]
    }
   ],
   "source": [
    "# SETUP. You don't need to worry for now about what this code does or how it works. \n",
    "# If you're curious about the code, it's available under an open source license at https://github.com/Kaggle/learntools/\n",
    "from learntools.core import binder; binder.bind(globals())\n",
    "from learntools.python.ex3 import q7 as blackjack\n",
    "# Returns a message \"Sorry, no auto-checking available for this question.\" (You can ignore.)\n",
    "blackjack.check()\n",
    "print('Setup complete.')"
   ]
  },
  {
   "cell_type": "markdown",
   "metadata": {
    "_uuid": "c9825893bcf078af81c583f78d7777c0fb9afb01"
   },
   "source": [
    "Once you have run the set-up code, you can see the action for a single game of blackjack with the following line:"
   ]
  },
  {
   "cell_type": "code",
   "execution_count": 3,
   "metadata": {
    "_uuid": "4fcb46a7f0a82bf7967133b00d7d555b7ab9659d"
   },
   "outputs": [
    {
     "name": "stdout",
     "output_type": "stream",
     "text": [
      "Player starts with 2 and J (total = 12)\n",
      "Dealer starts with 3\n",
      "\n",
      "__Player's turn__\n",
      "Player stays\n",
      "\n",
      "__Dealer's turn__\n",
      "Dealer hits and receives K. (total = 13)\n",
      "Dealer hits and receives 6. (total = 19)\n",
      "Dealer stands.\n",
      "Dealer wins. 19 >= 12\n"
     ]
    }
   ],
   "source": [
    "blackjack.simulate_one_game()"
   ]
  },
  {
   "cell_type": "markdown",
   "metadata": {
    "_uuid": "7a2869469b69804cc2b4e891f283d7372a864bee"
   },
   "source": [
    "You can see how your player does in a sample of 50,000 games with the following command:"
   ]
  },
  {
   "cell_type": "code",
   "execution_count": 4,
   "metadata": {
    "_uuid": "d71071f026e25f560b549808632cfde91921c321"
   },
   "outputs": [
    {
     "name": "stdout",
     "output_type": "stream",
     "text": [
      "Player won 19161 out of 50000 games (win rate = 38.3%)\n"
     ]
    }
   ],
   "source": [
    "blackjack.simulate(n_games=50000)"
   ]
  },
  {
   "cell_type": "markdown",
   "metadata": {
    "_uuid": "af2a491582cf71693467fd9fe3d8f4de48f8e7a8"
   },
   "source": [
    "# Your Turn\n",
    "\n",
    "Write your own `should_hit` function in the cell below. Then run the cell and see how your agent did in repeated play."
   ]
  },
  {
   "cell_type": "code",
   "execution_count": 5,
   "metadata": {
    "_uuid": "4f46c2dc095209845982a5827be50f5725329f51"
   },
   "outputs": [
    {
     "name": "stdout",
     "output_type": "stream",
     "text": [
      "Player won 21120 out of 50000 games (win rate = 42.2%)\n"
     ]
    }
   ],
   "source": [
    "def should_hit(player_total, dealer_card_val, player_aces):\n",
    "    \"\"\"Return True if the player should hit (request another card) given the current game\n",
    "    state, or False if the player should stay. player_aces is the number of aces the player has.\n",
    "    \"\"\"\n",
    "    if player_total < 12:\n",
    "        return True\n",
    "    elif player_total < 18 and dealer_card_val > 6:\n",
    "        return True\n",
    "    return False\n",
    "\n",
    "blackjack.simulate(n_games=50000)"
   ]
  },
  {
   "cell_type": "markdown",
   "metadata": {
    "_uuid": "29af50cbbf2e28ddc6c308f4ea62faac4992ebd0"
   },
   "source": [
    "---\n",
    "**[Microchallenges Home Page](https://www.kaggle.com/learn/microchallenges)**\n",
    "\n",
    "\n",
    "*How high can you get your win rate?  Visit the [Learn Discussion forum](https://www.kaggle.com/learn-forum/58735) to discuss your results.*"
   ]
  }
 ],
 "metadata": {
  "kernelspec": {
   "display_name": "Python 3",
   "language": "python",
   "name": "python3"
  },
  "language_info": {
   "codemirror_mode": {
    "name": "ipython",
    "version": 3
   },
   "file_extension": ".py",
   "mimetype": "text/x-python",
   "name": "python",
   "nbconvert_exporter": "python",
   "pygments_lexer": "ipython3",
   "version": "3.6.4"
  }
 },
 "nbformat": 4,
 "nbformat_minor": 4
}
