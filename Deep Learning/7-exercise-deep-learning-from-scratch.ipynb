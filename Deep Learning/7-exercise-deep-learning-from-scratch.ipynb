{
 "cells": [
  {
   "cell_type": "markdown",
   "execution_count": null,
   "metadata": {
    "papermill": {
     "duration": 0.007286,
     "end_time": "2020-09-09T15:54:02.930506",
     "exception": false,
     "start_time": "2020-09-09T15:54:02.923220",
     "status": "completed"
    },
    "tags": []
   },
   "source": [
    "**[Deep Learning Home Page](https://www.kaggle.com/learn/deep-learning)**\n",
    "\n",
    "---\n"
   ]
  },
  {
   "cell_type": "markdown",
   "execution_count": null,
   "metadata": {
    "papermill": {
     "duration": 0.00564,
     "end_time": "2020-09-09T15:54:02.942128",
     "exception": false,
     "start_time": "2020-09-09T15:54:02.936488",
     "status": "completed"
    },
    "tags": []
   },
   "source": [
    "# Introduction\n",
    "\n",
    "You've seen how to build a model from scratch to identify handwritten digits.  You'll now build a model to identify different types of clothing.  To make models that train quickly, we'll work with very small (low-resolution) images. \n",
    "\n",
    "As an example, your model will take an images like this and identify it as a shoe:\n",
    "\n",
    "![Imgur](https://i.imgur.com/GyXOnSB.png)"
   ]
  },
  {
   "cell_type": "markdown",
   "execution_count": null,
   "metadata": {
    "papermill": {
     "duration": 0.00546,
     "end_time": "2020-09-09T15:54:02.953280",
     "exception": false,
     "start_time": "2020-09-09T15:54:02.947820",
     "status": "completed"
    },
    "tags": []
   },
   "source": [
    "# Data Preparation\n",
    "This code is supplied, and you don't need to change it. Just run the cell below."
   ]
  },
  {
   "cell_type": "code",
   "execution_count": 1,
   "metadata": {
    "execution": {
     "iopub.execute_input": "2020-09-09T15:54:02.976457Z",
     "iopub.status.busy": "2020-09-09T15:54:02.975788Z",
     "iopub.status.idle": "2020-09-09T15:54:45.927682Z",
     "shell.execute_reply": "2020-09-09T15:54:45.928507Z"
    },
    "papermill": {
     "duration": 42.968311,
     "end_time": "2020-09-09T15:54:45.928778",
     "exception": false,
     "start_time": "2020-09-09T15:54:02.960467",
     "status": "completed"
    },
    "tags": []
   },
   "outputs": [
    {
     "name": "stdout",
     "output_type": "stream",
     "text": [
      "Using TensorFlow version 2.3.0\n",
      "Setup Complete\n"
     ]
    }
   ],
   "source": [
    "import numpy as np\n",
    "from sklearn.model_selection import train_test_split\n",
    "from tensorflow import keras\n",
    "\n",
    "img_rows, img_cols = 28, 28\n",
    "num_classes = 10\n",
    "\n",
    "def prep_data(raw):\n",
    "    y = raw[:, 0]\n",
    "    out_y = keras.utils.to_categorical(y, num_classes)\n",
    "    \n",
    "    x = raw[:,1:]\n",
    "    num_images = raw.shape[0]\n",
    "    out_x = x.reshape(num_images, img_rows, img_cols, 1)\n",
    "    out_x = out_x / 255\n",
    "    return out_x, out_y\n",
    "\n",
    "fashion_file = \"../input/fashionmnist/fashion-mnist_train.csv\"\n",
    "fashion_data = np.loadtxt(fashion_file, skiprows=1, delimiter=',')\n",
    "x, y = prep_data(fashion_data)\n",
    "\n",
    "# Set up code checking\n",
    "from learntools.core import binder\n",
    "binder.bind(globals())\n",
    "from learntools.deep_learning.exercise_7 import *\n",
    "print(\"Setup Complete\")"
   ]
  },
  {
   "cell_type": "markdown",
   "execution_count": null,
   "metadata": {
    "papermill": {
     "duration": 0.006095,
     "end_time": "2020-09-09T15:54:45.941619",
     "exception": false,
     "start_time": "2020-09-09T15:54:45.935524",
     "status": "completed"
    },
    "tags": []
   },
   "source": [
    "# 1) Start the model\n",
    "Create a `Sequential` model called `fashion_model`. Don't add layers yet."
   ]
  },
  {
   "cell_type": "code",
   "execution_count": 2,
   "metadata": {
    "execution": {
     "iopub.execute_input": "2020-09-09T15:54:45.958885Z",
     "iopub.status.busy": "2020-09-09T15:54:45.958271Z",
     "iopub.status.idle": "2020-09-09T15:54:48.851087Z",
     "shell.execute_reply": "2020-09-09T15:54:48.850599Z"
    },
    "papermill": {
     "duration": 2.903512,
     "end_time": "2020-09-09T15:54:48.851201",
     "exception": false,
     "start_time": "2020-09-09T15:54:45.947689",
     "status": "completed"
    },
    "tags": []
   },
   "outputs": [
    {
     "data": {
      "application/javascript": [
       "parent.postMessage({\"jupyterEvent\": \"custom.exercise_interaction\", \"data\": {\"outcomeType\": 1, \"valueTowardsCompletion\": 0.16666666666666666, \"interactionType\": 1, \"questionType\": 2, \"questionId\": \"1_StartSequentialModel\", \"learnToolsVersion\": \"0.3.4\", \"failureMessage\": \"\", \"exceptionClass\": \"\", \"trace\": \"\"}}, \"*\")"
      ],
      "text/plain": [
       "<IPython.core.display.Javascript object>"
      ]
     },
     "metadata": {},
     "output_type": "display_data"
    },
    {
     "data": {
      "text/markdown": [
       "<span style=\"color:#33cc33\">Correct</span>"
      ],
      "text/plain": [
       "Correct"
      ]
     },
     "metadata": {},
     "output_type": "display_data"
    }
   ],
   "source": [
    "from tensorflow import keras\n",
    "from tensorflow.keras.models import Sequential\n",
    "from tensorflow.keras.layers import Dense, Flatten, Conv2D\n",
    "\n",
    "# Your Code Here\n",
    "fashion_model = Sequential()\n",
    "\n",
    "# Check your answer\n",
    "q_1.check()"
   ]
  },
  {
   "cell_type": "code",
   "execution_count": 3,
   "metadata": {
    "execution": {
     "iopub.execute_input": "2020-09-09T15:54:48.867329Z",
     "iopub.status.busy": "2020-09-09T15:54:48.866751Z",
     "iopub.status.idle": "2020-09-09T15:54:48.870796Z",
     "shell.execute_reply": "2020-09-09T15:54:48.870299Z"
    },
    "papermill": {
     "duration": 0.013381,
     "end_time": "2020-09-09T15:54:48.870894",
     "exception": false,
     "start_time": "2020-09-09T15:54:48.857513",
     "status": "completed"
    },
    "tags": []
   },
   "outputs": [],
   "source": [
    "#q_1.solution()"
   ]
  },
  {
   "cell_type": "markdown",
   "execution_count": null,
   "metadata": {
    "papermill": {
     "duration": 0.005794,
     "end_time": "2020-09-09T15:54:48.882637",
     "exception": false,
     "start_time": "2020-09-09T15:54:48.876843",
     "status": "completed"
    },
    "tags": []
   },
   "source": [
    "# 2) Add the first layer\n",
    "\n",
    "Add the first `Conv2D` layer to `fashion_model`. It should have 12 filters, a kernel_size of 3 and the `relu` activation function. The first layer always requires that you specify the `input_shape`.  We have saved the number of rows and columns to the variables `img_rows` and `img_cols` respectively, so the input shape in this case is `(img_rows, img_cols, 1)`."
   ]
  },
  {
   "cell_type": "code",
   "execution_count": 4,
   "metadata": {
    "execution": {
     "iopub.execute_input": "2020-09-09T15:54:48.904705Z",
     "iopub.status.busy": "2020-09-09T15:54:48.903999Z",
     "iopub.status.idle": "2020-09-09T15:54:48.954654Z",
     "shell.execute_reply": "2020-09-09T15:54:48.953816Z"
    },
    "papermill": {
     "duration": 0.065764,
     "end_time": "2020-09-09T15:54:48.954771",
     "exception": false,
     "start_time": "2020-09-09T15:54:48.889007",
     "status": "completed"
    },
    "tags": []
   },
   "outputs": [
    {
     "data": {
      "application/javascript": [
       "parent.postMessage({\"jupyterEvent\": \"custom.exercise_interaction\", \"data\": {\"outcomeType\": 1, \"valueTowardsCompletion\": 0.16666666666666666, \"interactionType\": 1, \"questionType\": 2, \"questionId\": \"2_AddFirstLayer\", \"learnToolsVersion\": \"0.3.4\", \"failureMessage\": \"\", \"exceptionClass\": \"\", \"trace\": \"\"}}, \"*\")"
      ],
      "text/plain": [
       "<IPython.core.display.Javascript object>"
      ]
     },
     "metadata": {},
     "output_type": "display_data"
    },
    {
     "data": {
      "text/markdown": [
       "<span style=\"color:#33cc33\">Correct</span>"
      ],
      "text/plain": [
       "Correct"
      ]
     },
     "metadata": {},
     "output_type": "display_data"
    }
   ],
   "source": [
    "# Your code here\n",
    "fashion_model.add(Conv2D(12, kernel_size=(3,3),\n",
    "                          activation='relu',\n",
    "                         input_shape=(img_rows, img_cols, 1)))\n",
    "\n",
    "# Check your answer\n",
    "q_2.check()"
   ]
  },
  {
   "cell_type": "code",
   "execution_count": 5,
   "metadata": {
    "execution": {
     "iopub.execute_input": "2020-09-09T15:54:48.972829Z",
     "iopub.status.busy": "2020-09-09T15:54:48.971004Z",
     "iopub.status.idle": "2020-09-09T15:54:48.973458Z",
     "shell.execute_reply": "2020-09-09T15:54:48.973959Z"
    },
    "papermill": {
     "duration": 0.012722,
     "end_time": "2020-09-09T15:54:48.974070",
     "exception": false,
     "start_time": "2020-09-09T15:54:48.961348",
     "status": "completed"
    },
    "tags": []
   },
   "outputs": [],
   "source": [
    "# q_2.hint()\n",
    "#q_2.solution()"
   ]
  },
  {
   "cell_type": "markdown",
   "execution_count": null,
   "metadata": {
    "papermill": {
     "duration": 0.006113,
     "end_time": "2020-09-09T15:54:48.986496",
     "exception": false,
     "start_time": "2020-09-09T15:54:48.980383",
     "status": "completed"
    },
    "tags": []
   },
   "source": [
    "# 3) Add the remaining layers\n",
    "\n",
    "1. Add 2 more convolutional (`Conv2D layers`) with 20 filters each, 'relu' activation, and a kernel size of 3. Follow that with a `Flatten` layer, and then a `Dense` layer with 100 neurons. \n",
    "2. Add your prediction layer to `fashion_model`.  This is a `Dense` layer.  We alrady have a variable called `num_classes`.  Use this variable when specifying the number of nodes in this layer. The activation should be `softmax` (or you will have problems later)."
   ]
  },
  {
   "cell_type": "code",
   "execution_count": 6,
   "metadata": {
    "execution": {
     "iopub.execute_input": "2020-09-09T15:54:49.008717Z",
     "iopub.status.busy": "2020-09-09T15:54:49.007790Z",
     "iopub.status.idle": "2020-09-09T15:54:49.048957Z",
     "shell.execute_reply": "2020-09-09T15:54:49.048437Z"
    },
    "papermill": {
     "duration": 0.056169,
     "end_time": "2020-09-09T15:54:49.049058",
     "exception": false,
     "start_time": "2020-09-09T15:54:48.992889",
     "status": "completed"
    },
    "tags": []
   },
   "outputs": [
    {
     "data": {
      "application/javascript": [
       "parent.postMessage({\"jupyterEvent\": \"custom.exercise_interaction\", \"data\": {\"outcomeType\": 1, \"valueTowardsCompletion\": 0.16666666666666666, \"interactionType\": 1, \"questionType\": 2, \"questionId\": \"3_AddMoreLayers\", \"learnToolsVersion\": \"0.3.4\", \"failureMessage\": \"\", \"exceptionClass\": \"\", \"trace\": \"\"}}, \"*\")"
      ],
      "text/plain": [
       "<IPython.core.display.Javascript object>"
      ]
     },
     "metadata": {},
     "output_type": "display_data"
    },
    {
     "data": {
      "text/markdown": [
       "<span style=\"color:#33cc33\">Correct</span>"
      ],
      "text/plain": [
       "Correct"
      ]
     },
     "metadata": {},
     "output_type": "display_data"
    }
   ],
   "source": [
    "# Your code here\n",
    "fashion_model.add(Conv2D(20, kernel_size=(3,3),\n",
    "                          activation='relu'))\n",
    "fashion_model.add(Conv2D(20, kernel_size=(3,3),\n",
    "                          activation='relu'))\n",
    "fashion_model.add(Flatten())\n",
    "fashion_model.add(Dense(100, activation='relu'))\n",
    "fashion_model.add(Dense(num_classes, activation='softmax'))\n",
    "\n",
    "# Check your answer\n",
    "q_3.check()"
   ]
  },
  {
   "cell_type": "code",
   "execution_count": 7,
   "metadata": {
    "execution": {
     "iopub.execute_input": "2020-09-09T15:54:49.065834Z",
     "iopub.status.busy": "2020-09-09T15:54:49.065224Z",
     "iopub.status.idle": "2020-09-09T15:54:49.069348Z",
     "shell.execute_reply": "2020-09-09T15:54:49.068718Z"
    },
    "papermill": {
     "duration": 0.013606,
     "end_time": "2020-09-09T15:54:49.069446",
     "exception": false,
     "start_time": "2020-09-09T15:54:49.055840",
     "status": "completed"
    },
    "tags": []
   },
   "outputs": [],
   "source": [
    "# q_3.solution()"
   ]
  },
  {
   "cell_type": "markdown",
   "execution_count": null,
   "metadata": {
    "papermill": {
     "duration": 0.006438,
     "end_time": "2020-09-09T15:54:49.083070",
     "exception": false,
     "start_time": "2020-09-09T15:54:49.076632",
     "status": "completed"
    },
    "tags": []
   },
   "source": [
    "# 4) Compile Your Model\n",
    "Compile fashion_model with the `compile` method.  Specify the following arguments:\n",
    "1. `loss = \"categorical_crossentropy\"`\n",
    "2. `optimizer = 'adam'`\n",
    "3. `metrics = ['accuracy']`"
   ]
  },
  {
   "cell_type": "code",
   "execution_count": 8,
   "metadata": {
    "execution": {
     "iopub.execute_input": "2020-09-09T15:54:49.107670Z",
     "iopub.status.busy": "2020-09-09T15:54:49.106808Z",
     "iopub.status.idle": "2020-09-09T15:54:49.116505Z",
     "shell.execute_reply": "2020-09-09T15:54:49.117017Z"
    },
    "papermill": {
     "duration": 0.027279,
     "end_time": "2020-09-09T15:54:49.117122",
     "exception": false,
     "start_time": "2020-09-09T15:54:49.089843",
     "status": "completed"
    },
    "tags": []
   },
   "outputs": [
    {
     "data": {
      "application/javascript": [
       "parent.postMessage({\"jupyterEvent\": \"custom.exercise_interaction\", \"data\": {\"outcomeType\": 1, \"valueTowardsCompletion\": 0.16666666666666666, \"interactionType\": 1, \"questionType\": 2, \"questionId\": \"4_CompileModel\", \"learnToolsVersion\": \"0.3.4\", \"failureMessage\": \"\", \"exceptionClass\": \"\", \"trace\": \"\"}}, \"*\")"
      ],
      "text/plain": [
       "<IPython.core.display.Javascript object>"
      ]
     },
     "metadata": {},
     "output_type": "display_data"
    },
    {
     "data": {
      "text/markdown": [
       "<span style=\"color:#33cc33\">Correct</span>"
      ],
      "text/plain": [
       "Correct"
      ]
     },
     "metadata": {},
     "output_type": "display_data"
    }
   ],
   "source": [
    "# Your code to compile the model in this cell\n",
    "fashion_model.compile(loss=\"categorical_crossentropy\", optimizer='adam', metrics = ['accuracy'])\n",
    "\n",
    "# Check your answer\n",
    "q_4.check()"
   ]
  },
  {
   "cell_type": "code",
   "execution_count": 9,
   "metadata": {
    "execution": {
     "iopub.execute_input": "2020-09-09T15:54:49.134497Z",
     "iopub.status.busy": "2020-09-09T15:54:49.133941Z",
     "iopub.status.idle": "2020-09-09T15:54:49.138044Z",
     "shell.execute_reply": "2020-09-09T15:54:49.137300Z"
    },
    "papermill": {
     "duration": 0.013976,
     "end_time": "2020-09-09T15:54:49.138140",
     "exception": false,
     "start_time": "2020-09-09T15:54:49.124164",
     "status": "completed"
    },
    "tags": []
   },
   "outputs": [],
   "source": [
    "# q_4.solution()"
   ]
  },
  {
   "cell_type": "markdown",
   "execution_count": null,
   "metadata": {
    "papermill": {
     "duration": 0.006966,
     "end_time": "2020-09-09T15:54:49.152026",
     "exception": false,
     "start_time": "2020-09-09T15:54:49.145060",
     "status": "completed"
    },
    "tags": []
   },
   "source": [
    "# 5) Fit The Model\n",
    "Run the command `fashion_model.fit`. The arguments you will use are\n",
    "1. The data used to fit the model. First comes the data holding the images, and second is the data with the class labels to be predicted. Look at the first code cell (which was supplied to you) where we called `prep_data` to find the variable names for these.\n",
    "2. `batch_size = 100`\n",
    "3. `epochs = 4`\n",
    "4. `validation_split = 0.2`\n",
    "\n",
    "When you run this command, you can watch your model start improving.  You will see validation accuracies after each epoch."
   ]
  },
  {
   "cell_type": "code",
   "execution_count": 10,
   "metadata": {
    "execution": {
     "iopub.execute_input": "2020-09-09T15:54:49.171464Z",
     "iopub.status.busy": "2020-09-09T15:54:49.170899Z",
     "iopub.status.idle": "2020-09-09T15:55:02.222314Z",
     "shell.execute_reply": "2020-09-09T15:55:02.222836Z"
    },
    "papermill": {
     "duration": 13.06388,
     "end_time": "2020-09-09T15:55:02.222975",
     "exception": false,
     "start_time": "2020-09-09T15:54:49.159095",
     "status": "completed"
    },
    "tags": []
   },
   "outputs": [
    {
     "name": "stdout",
     "output_type": "stream",
     "text": [
      "Epoch 1/4\n",
      "480/480 [==============================] - 2s 5ms/step - loss: 0.4755 - accuracy: 0.8290 - val_loss: 0.3565 - val_accuracy: 0.8748\n",
      "Epoch 2/4\n",
      "480/480 [==============================] - 2s 4ms/step - loss: 0.3070 - accuracy: 0.8890 - val_loss: 0.2952 - val_accuracy: 0.8950\n",
      "Epoch 3/4\n",
      "480/480 [==============================] - 2s 4ms/step - loss: 0.2485 - accuracy: 0.9098 - val_loss: 0.2786 - val_accuracy: 0.9009\n",
      "Epoch 4/4\n",
      "480/480 [==============================] - 2s 5ms/step - loss: 0.2085 - accuracy: 0.9220 - val_loss: 0.2610 - val_accuracy: 0.9097\n"
     ]
    },
    {
     "data": {
      "application/javascript": [
       "parent.postMessage({\"jupyterEvent\": \"custom.exercise_interaction\", \"data\": {\"outcomeType\": 1, \"valueTowardsCompletion\": 0.16666666666666666, \"interactionType\": 1, \"questionType\": 2, \"questionId\": \"5_FitFullDLModel\", \"learnToolsVersion\": \"0.3.4\", \"failureMessage\": \"\", \"exceptionClass\": \"\", \"trace\": \"\"}}, \"*\")"
      ],
      "text/plain": [
       "<IPython.core.display.Javascript object>"
      ]
     },
     "metadata": {},
     "output_type": "display_data"
    },
    {
     "data": {
      "text/markdown": [
       "<span style=\"color:#33cc33\">Correct</span>"
      ],
      "text/plain": [
       "Correct"
      ]
     },
     "metadata": {},
     "output_type": "display_data"
    }
   ],
   "source": [
    "# Your code to fit the model here\n",
    "fashion_model.fit(x, y,\n",
    "                 batch_size=100,\n",
    "                 epochs=4,\n",
    "                 validation_split=0.2)\n",
    "\n",
    "# Check your answer\n",
    "q_5.check()"
   ]
  },
  {
   "cell_type": "code",
   "execution_count": 11,
   "metadata": {
    "execution": {
     "iopub.execute_input": "2020-09-09T15:55:02.278347Z",
     "iopub.status.busy": "2020-09-09T15:55:02.276642Z",
     "iopub.status.idle": "2020-09-09T15:55:02.279033Z",
     "shell.execute_reply": "2020-09-09T15:55:02.279641Z"
    },
    "papermill": {
     "duration": 0.027542,
     "end_time": "2020-09-09T15:55:02.279771",
     "exception": false,
     "start_time": "2020-09-09T15:55:02.252229",
     "status": "completed"
    },
    "tags": []
   },
   "outputs": [],
   "source": [
    "#q_5.solution()"
   ]
  },
  {
   "cell_type": "markdown",
   "execution_count": null,
   "metadata": {
    "papermill": {
     "duration": 0.015595,
     "end_time": "2020-09-09T15:55:02.311370",
     "exception": false,
     "start_time": "2020-09-09T15:55:02.295775",
     "status": "completed"
    },
    "tags": []
   },
   "source": [
    "# 6) Create A New Model\n",
    "\n",
    "Create a new model called `second_fashion_model` in the cell below.  Make some changes so it is different than `fashion_model` that you've trained above. The change could be using a different number of layers, different number of convolutions in the layers, etc.\n",
    "\n",
    "Define the model, compile it and fit it in the cell below.  See how its validation score compares to that of the original model."
   ]
  },
  {
   "cell_type": "code",
   "execution_count": 12,
   "metadata": {
    "execution": {
     "iopub.execute_input": "2020-09-09T15:55:02.356230Z",
     "iopub.status.busy": "2020-09-09T15:55:02.354904Z",
     "iopub.status.idle": "2020-09-09T15:55:12.275119Z",
     "shell.execute_reply": "2020-09-09T15:55:12.274406Z"
    },
    "papermill": {
     "duration": 9.948064,
     "end_time": "2020-09-09T15:55:12.275226",
     "exception": false,
     "start_time": "2020-09-09T15:55:02.327162",
     "status": "completed"
    },
    "tags": []
   },
   "outputs": [
    {
     "name": "stdout",
     "output_type": "stream",
     "text": [
      "Epoch 1/5\n",
      "375/375 [==============================] - 2s 5ms/step - loss: 0.4887 - accuracy: 0.8252 - val_loss: 0.3594 - val_accuracy: 0.8733\n",
      "Epoch 2/5\n",
      "375/375 [==============================] - 2s 5ms/step - loss: 0.3060 - accuracy: 0.8891 - val_loss: 0.2890 - val_accuracy: 0.8968\n",
      "Epoch 3/5\n",
      "375/375 [==============================] - 2s 5ms/step - loss: 0.2516 - accuracy: 0.9081 - val_loss: 0.2727 - val_accuracy: 0.9043\n",
      "Epoch 4/5\n",
      "375/375 [==============================] - 2s 5ms/step - loss: 0.2110 - accuracy: 0.9226 - val_loss: 0.2740 - val_accuracy: 0.9025\n",
      "Epoch 5/5\n",
      "375/375 [==============================] - 2s 5ms/step - loss: 0.1754 - accuracy: 0.9356 - val_loss: 0.2593 - val_accuracy: 0.9114\n",
      "Model summary from second_fashion_model.summary()\n",
      "Model: \"sequential_1\"\n",
      "_________________________________________________________________\n",
      "Layer (type)                 Output Shape              Param #   \n",
      "=================================================================\n",
      "conv2d_3 (Conv2D)            (None, 26, 26, 20)        200       \n",
      "_________________________________________________________________\n",
      "conv2d_4 (Conv2D)            (None, 24, 24, 20)        3620      \n",
      "_________________________________________________________________\n",
      "conv2d_5 (Conv2D)            (None, 22, 22, 20)        3620      \n",
      "_________________________________________________________________\n",
      "flatten_1 (Flatten)          (None, 9680)              0         \n",
      "_________________________________________________________________\n",
      "dense_2 (Dense)              (None, 128)               1239168   \n",
      "_________________________________________________________________\n",
      "dense_3 (Dense)              (None, 10)                1290      \n",
      "=================================================================\n",
      "Total params: 1,247,898\n",
      "Trainable params: 1,247,898\n",
      "Non-trainable params: 0\n",
      "_________________________________________________________________\n",
      "None\n"
     ]
    },
    {
     "data": {
      "application/javascript": [
       "parent.postMessage({\"jupyterEvent\": \"custom.exercise_interaction\", \"data\": {\"outcomeType\": 1, \"valueTowardsCompletion\": 0.16666666666666666, \"interactionType\": 1, \"questionType\": 2, \"questionId\": \"6_CreateNewDLModelFromScratch\", \"learnToolsVersion\": \"0.3.4\", \"failureMessage\": \"\", \"exceptionClass\": \"\", \"trace\": \"\"}}, \"*\")"
      ],
      "text/plain": [
       "<IPython.core.display.Javascript object>"
      ]
     },
     "metadata": {},
     "output_type": "display_data"
    },
    {
     "data": {
      "text/markdown": [
       "<span style=\"color:#33cc33\">Correct</span>"
      ],
      "text/plain": [
       "Correct"
      ]
     },
     "metadata": {},
     "output_type": "display_data"
    }
   ],
   "source": [
    "# Your code below\n",
    "second_fashion_model = Sequential()\n",
    "second_fashion_model.add(Conv2D(20, kernel_size=(3, 3),\n",
    "                 activation='relu',\n",
    "                 input_shape=(img_rows, img_cols, 1)))\n",
    "second_fashion_model.add(Conv2D(20, kernel_size=(3, 3), activation='relu'))\n",
    "second_fashion_model.add(Conv2D(20, kernel_size=(3, 3), activation='relu'))\n",
    "second_fashion_model.add(Flatten())\n",
    "second_fashion_model.add(Dense(128, activation='relu'))\n",
    "second_fashion_model.add(Dense(num_classes, activation='softmax'))\n",
    "\n",
    "second_fashion_model.compile(loss=keras.losses.categorical_crossentropy,\n",
    "              optimizer='adam',\n",
    "              metrics=['accuracy'])\n",
    "second_fashion_model.fit(x, y,\n",
    "          batch_size=128,\n",
    "          epochs=5,\n",
    "          validation_split = 0.2)\n",
    "\n",
    "\n",
    "# Don't remove this line (ensures comptibility with tensorflow 2.0)\n",
    "second_fashion_model.history.history['val_acc'] = second_fashion_model.history.history['val_accuracy']\n",
    "# Check your answer\n",
    "q_6.check()"
   ]
  },
  {
   "cell_type": "code",
   "execution_count": 13,
   "metadata": {
    "execution": {
     "iopub.execute_input": "2020-09-09T15:55:12.328063Z",
     "iopub.status.busy": "2020-09-09T15:55:12.327207Z",
     "iopub.status.idle": "2020-09-09T15:55:12.329450Z",
     "shell.execute_reply": "2020-09-09T15:55:12.329902Z"
    },
    "papermill": {
     "duration": 0.030052,
     "end_time": "2020-09-09T15:55:12.330023",
     "exception": false,
     "start_time": "2020-09-09T15:55:12.299971",
     "status": "completed"
    },
    "tags": []
   },
   "outputs": [],
   "source": [
    "#q_6.solution()"
   ]
  },
  {
   "cell_type": "markdown",
   "execution_count": null,
   "metadata": {
    "papermill": {
     "duration": 0.023313,
     "end_time": "2020-09-09T15:55:12.377179",
     "exception": false,
     "start_time": "2020-09-09T15:55:12.353866",
     "status": "completed"
    },
    "tags": []
   },
   "source": [
    "# Keep Going\n",
    "You are ready to learn about **[strides and dropout](https://www.kaggle.com/dansbecker/dropout-and-strides-for-larger-models)**, which become important as you start using bigger and more powerful models.\n"
   ]
  },
  {
   "cell_type": "markdown",
   "execution_count": null,
   "metadata": {
    "papermill": {
     "duration": 0.023196,
     "end_time": "2020-09-09T15:55:12.423938",
     "exception": false,
     "start_time": "2020-09-09T15:55:12.400742",
     "status": "completed"
    },
    "tags": []
   },
   "source": [
    "---\n",
    "**[Deep Learning Home Page](https://www.kaggle.com/learn/deep-learning)**\n",
    "\n",
    "\n",
    "\n",
    "\n",
    "\n",
    "*Have questions or comments? Visit the [Learn Discussion forum](https://www.kaggle.com/learn-forum) to chat with other Learners.*"
   ]
  }
 ],
 "metadata": {
  "kernelspec": {
   "display_name": "Python 3",
   "language": "python",
   "name": "python3"
  },
  "language_info": {
   "codemirror_mode": {
    "name": "ipython",
    "version": 3
   },
   "file_extension": ".py",
   "mimetype": "text/x-python",
   "name": "python",
   "nbconvert_exporter": "python",
   "pygments_lexer": "ipython3",
   "version": "3.7.6"
  },
  "papermill": {
   "duration": 74.932137,
   "end_time": "2020-09-09T15:55:13.530476",
   "environment_variables": {},
   "exception": null,
   "input_path": "__notebook__.ipynb",
   "output_path": "__notebook__.ipynb",
   "parameters": {},
   "start_time": "2020-09-09T15:53:58.598339",
   "version": "2.1.0"
  }
 },
 "nbformat": 4,
 "nbformat_minor": 4
}
